{
 "cells": [
  {
   "cell_type": "markdown",
   "id": "9e9a7907",
   "metadata": {},
   "source": [
    "# Basic NLP Course\n",
    "\n",
    "## Named Entity Recognition (NER)\n",
    "\n",
    "Named Entity Recognition (NER) is a subtask of Natural Language Processing (NLP) that focuses on identifying and classifying named entities in text into predefined categories such as names of persons, organizations, locations, dates, and more.\n",
    "\n",
    "- **Definition**: NER helps in extracting structured information from unstructured text by identifying entities and their types.\n",
    "- **Example**: In the sentence \"Google was founded by Larry Page and Sergey Brin in California,\" NER identifies:\n",
    "    - \"Google\" → Organization\n",
    "    - \"Larry Page\" → Person\n",
    "    - \"Sergey Brin\" → Person\n",
    "    - \"California\" → Location\n"
   ]
  },
  {
   "cell_type": "code",
   "execution_count": 10,
   "id": "1cffccfc",
   "metadata": {},
   "outputs": [],
   "source": [
    "import spacy\n",
    "from spacy import displacy\n",
    "from spacy.tokens import Span\n",
    "\n",
    "nlp = spacy.load('en_core_web_sm')"
   ]
  },
  {
   "cell_type": "code",
   "execution_count": 3,
   "id": "884abf5d",
   "metadata": {},
   "outputs": [
    {
     "data": {
      "text/plain": [
       "['tok2vec', 'tagger', 'parser', 'attribute_ruler', 'lemmatizer', 'ner']"
      ]
     },
     "execution_count": 3,
     "metadata": {},
     "output_type": "execute_result"
    }
   ],
   "source": [
    "# show the pipeline components\n",
    "nlp.pipe_names"
   ]
  },
  {
   "cell_type": "code",
   "execution_count": 4,
   "id": "a63ed1c3",
   "metadata": {},
   "outputs": [],
   "source": [
    "text = \"The Haber-Bosch process, developed by Fritz Haber and Carl Bosch in the early 20th century, is a key method for synthesizing ammonia. Ammonia is widely used in fertilizers and is produced in facilities like BASF in Germany. The process operates under high pressure and temperature, utilizing catalysts such as iron.\""
   ]
  },
  {
   "cell_type": "code",
   "execution_count": 6,
   "id": "3b15b867",
   "metadata": {},
   "outputs": [
    {
     "name": "stdout",
     "output_type": "stream",
     "text": [
      "Fritz Haber | PERSON | People, including fictional\n",
      "Carl Bosch | PERSON | People, including fictional\n",
      "the early 20th century | DATE | Absolute or relative dates or periods\n",
      "Ammonia | GPE | Countries, cities, states\n",
      "BASF | ORG | Companies, agencies, institutions, etc.\n",
      "Germany | GPE | Countries, cities, states\n"
     ]
    }
   ],
   "source": [
    "doc = nlp(text)\n",
    "\n",
    "for ent in doc.ents:\n",
    "    print(ent.text, \"|\", ent.label_, \"|\", spacy.explain(ent.label_))"
   ]
  },
  {
   "cell_type": "code",
   "execution_count": null,
   "id": "241bd818",
   "metadata": {},
   "outputs": [
    {
     "data": {
      "text/html": [
       "<span class=\"tex2jax_ignore\"><div class=\"entities\" style=\"line-height: 2.5; direction: ltr\">The Haber-Bosch process, developed by \n",
       "<mark class=\"entity\" style=\"background: #aa9cfc; padding: 0.45em 0.6em; margin: 0 0.25em; line-height: 1; border-radius: 0.35em;\">\n",
       "    Fritz Haber\n",
       "    <span style=\"font-size: 0.8em; font-weight: bold; line-height: 1; border-radius: 0.35em; vertical-align: middle; margin-left: 0.5rem\">PERSON</span>\n",
       "</mark>\n",
       " and \n",
       "<mark class=\"entity\" style=\"background: #aa9cfc; padding: 0.45em 0.6em; margin: 0 0.25em; line-height: 1; border-radius: 0.35em;\">\n",
       "    Carl Bosch\n",
       "    <span style=\"font-size: 0.8em; font-weight: bold; line-height: 1; border-radius: 0.35em; vertical-align: middle; margin-left: 0.5rem\">PERSON</span>\n",
       "</mark>\n",
       " in \n",
       "<mark class=\"entity\" style=\"background: #bfe1d9; padding: 0.45em 0.6em; margin: 0 0.25em; line-height: 1; border-radius: 0.35em;\">\n",
       "    the early 20th century\n",
       "    <span style=\"font-size: 0.8em; font-weight: bold; line-height: 1; border-radius: 0.35em; vertical-align: middle; margin-left: 0.5rem\">DATE</span>\n",
       "</mark>\n",
       ", is a key method for synthesizing ammonia. \n",
       "<mark class=\"entity\" style=\"background: #feca74; padding: 0.45em 0.6em; margin: 0 0.25em; line-height: 1; border-radius: 0.35em;\">\n",
       "    Ammonia\n",
       "    <span style=\"font-size: 0.8em; font-weight: bold; line-height: 1; border-radius: 0.35em; vertical-align: middle; margin-left: 0.5rem\">GPE</span>\n",
       "</mark>\n",
       " is widely used in fertilizers and is produced in facilities like \n",
       "<mark class=\"entity\" style=\"background: #7aecec; padding: 0.45em 0.6em; margin: 0 0.25em; line-height: 1; border-radius: 0.35em;\">\n",
       "    BASF\n",
       "    <span style=\"font-size: 0.8em; font-weight: bold; line-height: 1; border-radius: 0.35em; vertical-align: middle; margin-left: 0.5rem\">ORG</span>\n",
       "</mark>\n",
       " in \n",
       "<mark class=\"entity\" style=\"background: #feca74; padding: 0.45em 0.6em; margin: 0 0.25em; line-height: 1; border-radius: 0.35em;\">\n",
       "    Germany\n",
       "    <span style=\"font-size: 0.8em; font-weight: bold; line-height: 1; border-radius: 0.35em; vertical-align: middle; margin-left: 0.5rem\">GPE</span>\n",
       "</mark>\n",
       ". The process operates under high pressure and temperature, utilizing catalysts such as iron.</div></span>"
      ],
      "text/plain": [
       "<IPython.core.display.HTML object>"
      ]
     },
     "metadata": {},
     "output_type": "display_data"
    }
   ],
   "source": [
    "displacy.render(doc, style='ent')"
   ]
  },
  {
   "cell_type": "code",
   "execution_count": 9,
   "id": "093d0a43",
   "metadata": {},
   "outputs": [
    {
     "data": {
      "text/plain": [
       "['CARDINAL',\n",
       " 'DATE',\n",
       " 'EVENT',\n",
       " 'FAC',\n",
       " 'GPE',\n",
       " 'LANGUAGE',\n",
       " 'LAW',\n",
       " 'LOC',\n",
       " 'MONEY',\n",
       " 'NORP',\n",
       " 'ORDINAL',\n",
       " 'ORG',\n",
       " 'PERCENT',\n",
       " 'PERSON',\n",
       " 'PRODUCT',\n",
       " 'QUANTITY',\n",
       " 'TIME',\n",
       " 'WORK_OF_ART']"
      ]
     },
     "execution_count": 9,
     "metadata": {},
     "output_type": "execute_result"
    }
   ],
   "source": [
    "# see which categories or NER are suppoted\n",
    "nlp.pipe_labels['ner']"
   ]
  },
  {
   "cell_type": "code",
   "execution_count": 16,
   "id": "5f978c7a",
   "metadata": {},
   "outputs": [
    {
     "data": {
      "text/plain": [
       "Haber-Bosch"
      ]
     },
     "execution_count": 16,
     "metadata": {},
     "output_type": "execute_result"
    }
   ],
   "source": [
    "doc[1:4]"
   ]
  },
  {
   "cell_type": "code",
   "execution_count": 18,
   "id": "2cbf44a6",
   "metadata": {},
   "outputs": [],
   "source": [
    "s1 = Span(doc, 1, 4, label='PROCESS_METHOD')\n",
    "\n",
    "doc.set_ents([s1], default='unmodified')"
   ]
  },
  {
   "cell_type": "code",
   "execution_count": 19,
   "id": "a7b674ea",
   "metadata": {},
   "outputs": [
    {
     "name": "stdout",
     "output_type": "stream",
     "text": [
      "Haber-Bosch | PROCESS_METHOD | None\n",
      "Fritz Haber | PERSON | People, including fictional\n",
      "Carl Bosch | PERSON | People, including fictional\n",
      "the early 20th century | DATE | Absolute or relative dates or periods\n",
      "Ammonia | GPE | Countries, cities, states\n",
      "BASF | ORG | Companies, agencies, institutions, etc.\n",
      "Germany | GPE | Countries, cities, states\n"
     ]
    },
    {
     "name": "stderr",
     "output_type": "stream",
     "text": [
      "/usr/local/lib/python3.11/site-packages/spacy/glossary.py:20: UserWarning: [W118] Term 'PROCESS_METHOD' not found in glossary. It may however be explained in documentation for the corpora used to train the language. Please check `nlp.meta[\"sources\"]` for any relevant links.\n",
      "  warnings.warn(Warnings.W118.format(term=term))\n"
     ]
    }
   ],
   "source": [
    "for ent in doc.ents:\n",
    "    print(ent.text, \"|\", ent.label_, \"|\", spacy.explain(ent.label_))"
   ]
  }
 ],
 "metadata": {
  "kernelspec": {
   "display_name": "Python 3",
   "language": "python",
   "name": "python3"
  },
  "language_info": {
   "codemirror_mode": {
    "name": "ipython",
    "version": 3
   },
   "file_extension": ".py",
   "mimetype": "text/x-python",
   "name": "python",
   "nbconvert_exporter": "python",
   "pygments_lexer": "ipython3",
   "version": "3.11.13"
  }
 },
 "nbformat": 4,
 "nbformat_minor": 5
}
