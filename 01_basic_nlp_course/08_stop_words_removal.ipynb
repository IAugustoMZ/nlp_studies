{
 "cells": [
  {
   "cell_type": "markdown",
   "id": "91aa883b",
   "metadata": {},
   "source": [
    "# Basic NLP Course\n",
    "\n",
    "## Importance of Removing Stop Words\n",
    "\n",
    "In Natural Language Processing (NLP), **stop words** are common words that occur frequently in a language but carry little to no meaningful information for tasks like text analysis or classification. Examples of stop words in English include \"the,\" \"is,\" \"in,\" \"and,\" etc.\n",
    "\n",
    "### Concept of Stop Words\n",
    "\n",
    "- **Definition**: Stop words are words that are often filtered out during preprocessing because they do not contribute significantly to the meaning or context of the text.\n",
    "- **Examples**: Words like \"a,\" \"an,\" \"the,\" \"of,\" \"on,\" \"and,\" \"it,\" etc.\n",
    "\n",
    "### Importance of Removing Stop Words\n",
    "1. **Reduces Noise**: Stop words can introduce noise in the data, making it harder for models to focus on the meaningful content.\n",
    "2. **Improves Efficiency**: By removing stop words, the dimensionality of the data is reduced, leading to faster processing and reduced computational overhead.\n",
    "3. **Enhances Model Performance**: Eliminating irrelevant words allows machine learning models to focus on the words that carry more semantic weight, improving the accuracy of tasks like classification, clustering, and sentiment analysis.\n",
    "4. **Simplifies Vocabulary**: Removing stop words reduces the size of the vocabulary, making the Bag of Words or other representations more concise and manageable.\n",
    "\n",
    "### Example\n",
    "Consider the sentence:\n",
    "- \"The cat is on the mat.\"\n",
    "\n",
    "After removing stop words (\"the,\" \"is,\" \"on\"), the sentence becomes:\n",
    "- \"cat mat\"\n",
    "\n",
    "This simplified version retains the core meaning while reducing unnecessary words, making it easier for models to process and analyze."
   ]
  },
  {
   "cell_type": "code",
   "execution_count": 6,
   "id": "03fcd12b",
   "metadata": {},
   "outputs": [],
   "source": [
    "import spacy\n",
    "import pandas as pd\n",
    "from spacy.lang.en.stop_words import STOP_WORDS"
   ]
  },
  {
   "cell_type": "code",
   "execution_count": 7,
   "id": "94bc0cde",
   "metadata": {},
   "outputs": [
    {
     "name": "stdout",
     "output_type": "stream",
     "text": [
      "Collecting en-core-web-sm==3.8.0\n",
      "  Downloading https://github.com/explosion/spacy-models/releases/download/en_core_web_sm-3.8.0/en_core_web_sm-3.8.0-py3-none-any.whl (12.8 MB)\n",
      "\u001b[2K     \u001b[90m━━━━━━━━━━━━━━━━━━━━━━━━━━━━━━━━━━━━━━━━\u001b[0m \u001b[32m12.8/12.8 MB\u001b[0m \u001b[31m20.2 MB/s\u001b[0m eta \u001b[36m0:00:00\u001b[0m00:01\u001b[0m00:01\u001b[0m\n",
      "\u001b[?25hInstalling collected packages: en-core-web-sm\n",
      "Successfully installed en-core-web-sm-3.8.0\n",
      "\u001b[33mWARNING: Running pip as the 'root' user can result in broken permissions and conflicting behaviour with the system package manager. It is recommended to use a virtual environment instead: https://pip.pypa.io/warnings/venv\u001b[0m\u001b[33m\n",
      "\u001b[0m\n",
      "\u001b[1m[\u001b[0m\u001b[34;49mnotice\u001b[0m\u001b[1;39;49m]\u001b[0m\u001b[39;49m A new release of pip is available: \u001b[0m\u001b[31;49m24.0\u001b[0m\u001b[39;49m -> \u001b[0m\u001b[32;49m25.2\u001b[0m\n",
      "\u001b[1m[\u001b[0m\u001b[34;49mnotice\u001b[0m\u001b[1;39;49m]\u001b[0m\u001b[39;49m To update, run: \u001b[0m\u001b[32;49mpip install --upgrade pip\u001b[0m\n",
      "\u001b[38;5;2m✔ Download and installation successful\u001b[0m\n",
      "You can now load the package via spacy.load('en_core_web_sm')\n"
     ]
    }
   ],
   "source": [
    "!python -m spacy download en_core_web_sm"
   ]
  },
  {
   "cell_type": "code",
   "execution_count": 8,
   "id": "1d228fa9",
   "metadata": {},
   "outputs": [
    {
     "data": {
      "text/html": [
       "<div>\n",
       "<style scoped>\n",
       "    .dataframe tbody tr th:only-of-type {\n",
       "        vertical-align: middle;\n",
       "    }\n",
       "\n",
       "    .dataframe tbody tr th {\n",
       "        vertical-align: top;\n",
       "    }\n",
       "\n",
       "    .dataframe thead th {\n",
       "        text-align: right;\n",
       "    }\n",
       "</style>\n",
       "<table border=\"1\" class=\"dataframe\">\n",
       "  <thead>\n",
       "    <tr style=\"text-align: right;\">\n",
       "      <th></th>\n",
       "      <th>failure_mode</th>\n",
       "      <th>description</th>\n",
       "    </tr>\n",
       "  </thead>\n",
       "  <tbody>\n",
       "    <tr>\n",
       "      <th>0</th>\n",
       "      <td>Internal leakage</td>\n",
       "      <td>Compressor CP-001 is experiencing internal lea...</td>\n",
       "    </tr>\n",
       "    <tr>\n",
       "      <th>1</th>\n",
       "      <td>Abnormal instrument reading</td>\n",
       "      <td>Compressor CP-101 is showing abnormal pressure...</td>\n",
       "    </tr>\n",
       "    <tr>\n",
       "      <th>2</th>\n",
       "      <td>Abnormal instrument reading</td>\n",
       "      <td>Compressor C-101 is giving an abnormal high pr...</td>\n",
       "    </tr>\n",
       "    <tr>\n",
       "      <th>3</th>\n",
       "      <td>Abnormal instrument reading</td>\n",
       "      <td>Compressor C-101-A is giving abnormal instrume...</td>\n",
       "    </tr>\n",
       "    <tr>\n",
       "      <th>4</th>\n",
       "      <td>Abnormal instrument reading</td>\n",
       "      <td>Compressor CP-101 is giving an abnormal instru...</td>\n",
       "    </tr>\n",
       "  </tbody>\n",
       "</table>\n",
       "</div>"
      ],
      "text/plain": [
       "                  failure_mode  \\\n",
       "0             Internal leakage   \n",
       "1  Abnormal instrument reading   \n",
       "2  Abnormal instrument reading   \n",
       "3  Abnormal instrument reading   \n",
       "4  Abnormal instrument reading   \n",
       "\n",
       "                                         description  \n",
       "0  Compressor CP-001 is experiencing internal lea...  \n",
       "1  Compressor CP-101 is showing abnormal pressure...  \n",
       "2  Compressor C-101 is giving an abnormal high pr...  \n",
       "3  Compressor C-101-A is giving abnormal instrume...  \n",
       "4  Compressor CP-101 is giving an abnormal instru...  "
      ]
     },
     "execution_count": 8,
     "metadata": {},
     "output_type": "execute_result"
    }
   ],
   "source": [
    "data = pd.read_csv('../data/work_orders_sample.csv')\n",
    "data.head()"
   ]
  },
  {
   "cell_type": "code",
   "execution_count": 9,
   "id": "3d64cf23",
   "metadata": {},
   "outputs": [
    {
     "name": "stdout",
     "output_type": "stream",
     "text": [
      "Compressor C-101 has performance issues due to a structural deficiency, likely caused by vibration, which has resulted in material damage to the impeller, requiring replacement to restore normal operation.\n"
     ]
    }
   ],
   "source": [
    "doc_example = data['description'].sample(1).iloc[0]\n",
    "print(doc_example)"
   ]
  },
  {
   "cell_type": "code",
   "execution_count": 10,
   "id": "7846e9df",
   "metadata": {},
   "outputs": [
    {
     "name": "stdout",
     "output_type": "stream",
     "text": [
      "has\n",
      "due\n",
      "to\n",
      "a\n",
      "by\n",
      "which\n",
      "has\n",
      "in\n",
      "to\n",
      "the\n",
      "to\n"
     ]
    }
   ],
   "source": [
    "nlp = spacy.load('en_core_web_sm')\n",
    "doc = nlp(doc_example)\n",
    "\n",
    "for token in doc:\n",
    "    if token.is_stop:\n",
    "        print(token.text)"
   ]
  },
  {
   "cell_type": "code",
   "execution_count": 11,
   "id": "7f06a07b",
   "metadata": {},
   "outputs": [],
   "source": [
    "def preprocess_text(text):\n",
    "    doc = nlp(text)\n",
    "    # removing stop words and punctuation\n",
    "    tokens = [token.text for token in doc if not token.is_stop and not token.is_punct]\n",
    "\n",
    "    # stemming or lemmatization can be added here if needed\n",
    "    lemmatized_tokens = [token.lemma_ for token in nlp(' '.join(tokens))]\n",
    "\n",
    "    return ' '.join(lemmatized_tokens)"
   ]
  },
  {
   "cell_type": "code",
   "execution_count": 12,
   "id": "9e2f7867",
   "metadata": {},
   "outputs": [
    {
     "data": {
      "text/html": [
       "<div>\n",
       "<style scoped>\n",
       "    .dataframe tbody tr th:only-of-type {\n",
       "        vertical-align: middle;\n",
       "    }\n",
       "\n",
       "    .dataframe tbody tr th {\n",
       "        vertical-align: top;\n",
       "    }\n",
       "\n",
       "    .dataframe thead th {\n",
       "        text-align: right;\n",
       "    }\n",
       "</style>\n",
       "<table border=\"1\" class=\"dataframe\">\n",
       "  <thead>\n",
       "    <tr style=\"text-align: right;\">\n",
       "      <th></th>\n",
       "      <th>description</th>\n",
       "      <th>cleaned_description</th>\n",
       "    </tr>\n",
       "  </thead>\n",
       "  <tbody>\n",
       "    <tr>\n",
       "      <th>0</th>\n",
       "      <td>Compressor CP-001 is experiencing internal lea...</td>\n",
       "      <td>Compressor CP-001 experience internal leakage ...</td>\n",
       "    </tr>\n",
       "    <tr>\n",
       "      <th>1</th>\n",
       "      <td>Compressor CP-101 is showing abnormal pressure...</td>\n",
       "      <td>Compressor CP-101 show abnormal pressure readi...</td>\n",
       "    </tr>\n",
       "    <tr>\n",
       "      <th>2</th>\n",
       "      <td>Compressor C-101 is giving an abnormal high pr...</td>\n",
       "      <td>Compressor C-101 give abnormal high pressure r...</td>\n",
       "    </tr>\n",
       "    <tr>\n",
       "      <th>3</th>\n",
       "      <td>Compressor C-101-A is giving abnormal instrume...</td>\n",
       "      <td>Compressor C-101 give abnormal instrument read...</td>\n",
       "    </tr>\n",
       "    <tr>\n",
       "      <th>4</th>\n",
       "      <td>Compressor CP-101 is giving an abnormal instru...</td>\n",
       "      <td>Compressor CP-101 give abnormal instrument rea...</td>\n",
       "    </tr>\n",
       "    <tr>\n",
       "      <th>5</th>\n",
       "      <td>Compressor C-101A is showing abnormal instrume...</td>\n",
       "      <td>Compressor C-101A show abnormal instrument rea...</td>\n",
       "    </tr>\n",
       "    <tr>\n",
       "      <th>6</th>\n",
       "      <td>Compressor CP-001 is indicating abnormal instr...</td>\n",
       "      <td>Compressor CP-001 indicate abnormal instrument...</td>\n",
       "    </tr>\n",
       "    <tr>\n",
       "      <th>7</th>\n",
       "      <td>Compressor C-101A is giving an abnormal instru...</td>\n",
       "      <td>Compressor C-101A give abnormal instrument rea...</td>\n",
       "    </tr>\n",
       "    <tr>\n",
       "      <th>8</th>\n",
       "      <td>Compressor C-101-A is showing abnormal instrum...</td>\n",
       "      <td>Compressor C-101 show abnormal instrument read...</td>\n",
       "    </tr>\n",
       "    <tr>\n",
       "      <th>9</th>\n",
       "      <td>Compressor C-101 is giving abnormal instrument...</td>\n",
       "      <td>Compressor C-101 give abnormal instrument read...</td>\n",
       "    </tr>\n",
       "  </tbody>\n",
       "</table>\n",
       "</div>"
      ],
      "text/plain": [
       "                                         description  \\\n",
       "0  Compressor CP-001 is experiencing internal lea...   \n",
       "1  Compressor CP-101 is showing abnormal pressure...   \n",
       "2  Compressor C-101 is giving an abnormal high pr...   \n",
       "3  Compressor C-101-A is giving abnormal instrume...   \n",
       "4  Compressor CP-101 is giving an abnormal instru...   \n",
       "5  Compressor C-101A is showing abnormal instrume...   \n",
       "6  Compressor CP-001 is indicating abnormal instr...   \n",
       "7  Compressor C-101A is giving an abnormal instru...   \n",
       "8  Compressor C-101-A is showing abnormal instrum...   \n",
       "9  Compressor C-101 is giving abnormal instrument...   \n",
       "\n",
       "                                 cleaned_description  \n",
       "0  Compressor CP-001 experience internal leakage ...  \n",
       "1  Compressor CP-101 show abnormal pressure readi...  \n",
       "2  Compressor C-101 give abnormal high pressure r...  \n",
       "3  Compressor C-101 give abnormal instrument read...  \n",
       "4  Compressor CP-101 give abnormal instrument rea...  \n",
       "5  Compressor C-101A show abnormal instrument rea...  \n",
       "6  Compressor CP-001 indicate abnormal instrument...  \n",
       "7  Compressor C-101A give abnormal instrument rea...  \n",
       "8  Compressor C-101 show abnormal instrument read...  \n",
       "9  Compressor C-101 give abnormal instrument read...  "
      ]
     },
     "execution_count": 12,
     "metadata": {},
     "output_type": "execute_result"
    }
   ],
   "source": [
    "# apply the preprocessing function to the 'description' column\n",
    "data['cleaned_description'] = data['description'].apply(preprocess_text)\n",
    "data[['description', 'cleaned_description']].head(10)"
   ]
  }
 ],
 "metadata": {
  "kernelspec": {
   "display_name": "Python 3",
   "language": "python",
   "name": "python3"
  },
  "language_info": {
   "codemirror_mode": {
    "name": "ipython",
    "version": 3
   },
   "file_extension": ".py",
   "mimetype": "text/x-python",
   "name": "python",
   "nbconvert_exporter": "python",
   "pygments_lexer": "ipython3",
   "version": "3.11.13"
  }
 },
 "nbformat": 4,
 "nbformat_minor": 5
}
