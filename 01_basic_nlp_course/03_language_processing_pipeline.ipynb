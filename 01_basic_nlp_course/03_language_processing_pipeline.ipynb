{
 "cells": [
  {
   "cell_type": "markdown",
   "id": "65a58aca",
   "metadata": {},
   "source": [
    "# Basic NLP Course\n",
    "\n",
    "## spaCy Language Processing Pipelines\n",
    "\n",
    "In this class, we will learn how to define and utilize language processing pipelines using spaCy. This is the second class of the Basic NLP Course, where we will explore two popular Python libraries for Natural Language Processing: NLTK and spaCy. These packages provide powerful tools for text processing, tokenization, parsing, and more.\n",
    "\n",
    "spaCy adopts an object-oriented approach, making it ideal for those who prioritize the end result and need efficient pipelines for NLP tasks. On the other hand, NLTK relies on string processing, offering access to a wide range of algorithms and greater flexibility for customizations, making it suitable for those who want to experiment and fine-tune their workflows."
   ]
  },
  {
   "cell_type": "code",
   "execution_count": 2,
   "id": "856c2616",
   "metadata": {},
   "outputs": [],
   "source": [
    "import spacy\n",
    "from spacy import displacy\n",
    "\n",
    "# create a blank English NLP object\n",
    "nlp = spacy.blank(\"en\")"
   ]
  },
  {
   "cell_type": "code",
   "execution_count": 3,
   "id": "a5ffcad7",
   "metadata": {},
   "outputs": [],
   "source": [
    "# Examples of NL questions about physical and chemical properties with varying temperature units\n",
    "questions = [\n",
    "    \"What is the boiling point of ethanol at 1 atm?\",\n",
    "    \"How much does the density of mercury change at 25 °C?\",\n",
    "    \"What is the specific heat capacity of aluminum in its solid state?\",\n",
    "    \"Can you tell me the viscosity of olive oil at 40 °C?\",\n",
    "    \"What is the melting point of sodium chloride?\",\n",
    "    \"How does the thermal conductivity of copper vary at 100 °C?\",\n",
    "    \"What is the vapor pressure of acetone at 50 °C?\",\n",
    "    \"What is the refractive index of water at 20 °C?\",\n",
    "    \"What is the solubility of carbon dioxide in water at 5 °C?\",\n",
    "    \"What is the surface tension of ethanol at 30 °C?\",\n",
    "    \"What is the pH of a 0.1 M HCl solution at 25 °C?\",\n",
    "    \"What is the enthalpy of vaporization of benzene at its boiling point?\",\n",
    "    \"What is the compressibility factor of nitrogen gas at 300 K and 10 atm?\",\n",
    "    \"What is the freezing point of a 10% NaCl solution?\",\n",
    "    \"What is the electrical conductivity of pure water at 25 °C?\"\n",
    "]"
   ]
  },
  {
   "cell_type": "code",
   "execution_count": 4,
   "id": "d684436f",
   "metadata": {},
   "outputs": [
    {
     "name": "stdout",
     "output_type": "stream",
     "text": [
      "Collecting en-core-web-sm==3.8.0\n",
      "  Downloading https://github.com/explosion/spacy-models/releases/download/en_core_web_sm-3.8.0/en_core_web_sm-3.8.0-py3-none-any.whl (12.8 MB)\n",
      "\u001b[2K     \u001b[90m━━━━━━━━━━━━━━━━━━━━━━━━━━━━━━━━━━━━━━━━\u001b[0m \u001b[32m12.8/12.8 MB\u001b[0m \u001b[31m11.5 MB/s\u001b[0m eta \u001b[36m0:00:00\u001b[0m00:01\u001b[0m00:01\u001b[0m\n",
      "\u001b[?25h\u001b[33mWARNING: Running pip as the 'root' user can result in broken permissions and conflicting behaviour with the system package manager. It is recommended to use a virtual environment instead: https://pip.pypa.io/warnings/venv\u001b[0m\u001b[33m\n",
      "\u001b[0m\n",
      "\u001b[1m[\u001b[0m\u001b[34;49mnotice\u001b[0m\u001b[1;39;49m]\u001b[0m\u001b[39;49m A new release of pip is available: \u001b[0m\u001b[31;49m24.0\u001b[0m\u001b[39;49m -> \u001b[0m\u001b[32;49m25.2\u001b[0m\n",
      "\u001b[1m[\u001b[0m\u001b[34;49mnotice\u001b[0m\u001b[1;39;49m]\u001b[0m\u001b[39;49m To update, run: \u001b[0m\u001b[32;49mpip install --upgrade pip\u001b[0m\n",
      "\u001b[38;5;2m✔ Download and installation successful\u001b[0m\n",
      "You can now load the package via spacy.load('en_core_web_sm')\n"
     ]
    }
   ],
   "source": [
    "!python -m spacy download en_core_web_sm"
   ]
  },
  {
   "cell_type": "code",
   "execution_count": 5,
   "id": "d2b8e34f",
   "metadata": {},
   "outputs": [
    {
     "data": {
      "text/plain": [
       "[('tok2vec', <spacy.pipeline.tok2vec.Tok2Vec at 0x703cbbf33170>),\n",
       " ('tagger', <spacy.pipeline.tagger.Tagger at 0x703cbbf33530>),\n",
       " ('parser', <spacy.pipeline.dep_parser.DependencyParser at 0x703cbc1e6c00>),\n",
       " ('attribute_ruler',\n",
       "  <spacy.pipeline.attributeruler.AttributeRuler at 0x703cbc31d690>),\n",
       " ('lemmatizer',\n",
       "  <spacy.lang.en.lemmatizer.EnglishLemmatizer at 0x703cbdd20e10>),\n",
       " ('ner', <spacy.pipeline.ner.EntityRecognizer at 0x703cbc1e6ce0>)]"
      ]
     },
     "execution_count": 5,
     "metadata": {},
     "output_type": "execute_result"
    }
   ],
   "source": [
    "# load pipeline\n",
    "nlp = spacy.load(\"en_core_web_sm\")\n",
    "nlp.pipeline"
   ]
  },
  {
   "cell_type": "code",
   "execution_count": 6,
   "id": "4c9398e1",
   "metadata": {},
   "outputs": [
    {
     "name": "stdout",
     "output_type": "stream",
     "text": [
      "What         what         PRON   attr       Xxxx              1      1\n",
      "is           be           AUX    ROOT       xx                1      1\n",
      "the          the          DET    det        xxx               1      1\n",
      "boiling      boiling      NOUN   compound   xxxx              1      0\n",
      "point        point        NOUN   nsubj      xxxx              1      0\n",
      "of           of           ADP    prep       xx                1      1\n",
      "ethanol      ethanol      NOUN   pobj       xxxx              1      0\n",
      "at           at           ADP    prep       xx                1      1\n",
      "1            1            NUM    nummod     d                 0      0\n",
      "atm          atm          NOUN   pobj       xxx               1      0\n",
      "?            ?            PUNCT  punct      ?                 0      0\n",
      "How          how          SCONJ  advmod     Xxx               1      1\n",
      "much         much         ADJ    dobj       xxxx              1      1\n",
      "does         do           VERB   ROOT       xxxx              1      1\n",
      "the          the          DET    det        xxx               1      1\n",
      "density      density      NOUN   nsubj      xxxx              1      0\n",
      "of           of           ADP    prep       xx                1      1\n",
      "mercury      mercury      NOUN   compound   xxxx              1      0\n",
      "change       change       NOUN   pobj       xxxx              1      0\n",
      "at           at           ADP    prep       xx                1      1\n",
      "25           25           NUM    nummod     dd                0      0\n",
      "°            °            NUM    pobj       °                 0      0\n",
      "C            C            PROPN  pobj       X                 1      0\n",
      "?            ?            PUNCT  punct      ?                 0      0\n",
      "What         what         PRON   attr       Xxxx              1      1\n",
      "is           be           AUX    ROOT       xx                1      1\n",
      "the          the          DET    det        xxx               1      1\n",
      "specific     specific     ADJ    amod       xxxx              1      0\n",
      "heat         heat         NOUN   compound   xxxx              1      0\n",
      "capacity     capacity     NOUN   nsubj      xxxx              1      0\n",
      "of           of           ADP    prep       xx                1      1\n",
      "aluminum     aluminum     NOUN   pobj       xxxx              1      0\n",
      "in           in           ADP    prep       xx                1      1\n",
      "its          its          PRON   poss       xxx               1      1\n",
      "solid        solid        ADJ    amod       xxxx              1      0\n",
      "state        state        NOUN   pobj       xxxx              1      0\n",
      "?            ?            PUNCT  punct      ?                 0      0\n",
      "Can          can          AUX    aux        Xxx               1      1\n",
      "you          you          PRON   nsubj      xxx               1      1\n",
      "tell         tell         VERB   ROOT       xxxx              1      0\n",
      "me           I            PRON   dative     xx                1      1\n",
      "the          the          DET    det        xxx               1      1\n",
      "viscosity    viscosity    NOUN   dobj       xxxx              1      0\n",
      "of           of           ADP    prep       xx                1      1\n",
      "olive        olive        ADJ    amod       xxxx              1      0\n",
      "oil          oil          NOUN   pobj       xxx               1      0\n",
      "at           at           ADP    prep       xx                1      1\n",
      "40           40           NUM    nummod     dd                0      0\n",
      "°            °            NUM    pobj       °                 0      0\n",
      "C            C            PROPN  pobj       X                 1      0\n",
      "?            ?            PUNCT  punct      ?                 0      0\n",
      "What         what         PRON   attr       Xxxx              1      1\n",
      "is           be           AUX    ROOT       xx                1      1\n",
      "the          the          DET    det        xxx               1      1\n",
      "melting      melt         VERB   compound   xxxx              1      0\n",
      "point        point        NOUN   nsubj      xxxx              1      0\n",
      "of           of           ADP    prep       xx                1      1\n",
      "sodium       sodium       NOUN   compound   xxxx              1      0\n",
      "chloride     chloride     NOUN   pobj       xxxx              1      0\n",
      "?            ?            PUNCT  punct      ?                 0      0\n",
      "How          how          SCONJ  advmod     Xxx               1      1\n",
      "does         do           AUX    aux        xxxx              1      1\n",
      "the          the          DET    det        xxx               1      1\n",
      "thermal      thermal      ADJ    amod       xxxx              1      0\n",
      "conductivity conductivity NOUN   nsubj      xxxx              1      0\n",
      "of           of           ADP    prep       xx                1      1\n",
      "copper       copper       NOUN   pobj       xxxx              1      0\n",
      "vary         vary         VERB   ROOT       xxxx              1      0\n",
      "at           at           ADP    prep       xx                1      1\n",
      "100          100          NUM    nummod     ddd               0      0\n",
      "°            °            PUNCT  pobj       °                 0      0\n",
      "C            C            PROPN  pobj       X                 1      0\n",
      "?            ?            PUNCT  punct      ?                 0      0\n",
      "What         what         PRON   attr       Xxxx              1      1\n",
      "is           be           AUX    ROOT       xx                1      1\n",
      "the          the          DET    det        xxx               1      1\n",
      "vapor        vapor        NOUN   compound   xxxx              1      0\n",
      "pressure     pressure     NOUN   nsubj      xxxx              1      0\n",
      "of           of           ADP    prep       xx                1      1\n",
      "acetone      acetone      NOUN   pobj       xxxx              1      0\n",
      "at           at           ADP    prep       xx                1      1\n",
      "50           50           NUM    nummod     dd                0      0\n",
      "°            °            NUM    pobj       °                 0      0\n",
      "C            C            PROPN  pobj       X                 1      0\n",
      "?            ?            PUNCT  punct      ?                 0      0\n",
      "What         what         PRON   attr       Xxxx              1      1\n",
      "is           be           AUX    ROOT       xx                1      1\n",
      "the          the          DET    det        xxx               1      1\n",
      "refractive   refractive   ADJ    amod       xxxx              1      0\n",
      "index        index        NOUN   nsubj      xxxx              1      0\n",
      "of           of           ADP    prep       xx                1      1\n",
      "water        water        NOUN   pobj       xxxx              1      0\n",
      "at           at           ADP    prep       xx                1      1\n",
      "20           20           NUM    nummod     dd                0      0\n",
      "°            °            NUM    pobj       °                 0      0\n",
      "C            C            PROPN  pobj       X                 1      0\n",
      "?            ?            PUNCT  punct      ?                 0      0\n",
      "What         what         PRON   attr       Xxxx              1      1\n",
      "is           be           AUX    ROOT       xx                1      1\n",
      "the          the          DET    det        xxx               1      1\n",
      "solubility   solubility   NOUN   nsubj      xxxx              1      0\n",
      "of           of           ADP    prep       xx                1      1\n",
      "carbon       carbon       NOUN   compound   xxxx              1      0\n",
      "dioxide      dioxide      NOUN   pobj       xxxx              1      0\n",
      "in           in           ADP    prep       xx                1      1\n",
      "water        water        NOUN   pobj       xxxx              1      0\n",
      "at           at           ADP    prep       xx                1      1\n",
      "5            5            NUM    nummod     d                 0      0\n",
      "°            °            NUM    pobj       °                 0      0\n",
      "C            C            PROPN  pobj       X                 1      0\n",
      "?            ?            PUNCT  punct      ?                 0      0\n",
      "What         what         PRON   attr       Xxxx              1      1\n",
      "is           be           AUX    ROOT       xx                1      1\n",
      "the          the          DET    det        xxx               1      1\n",
      "surface      surface      NOUN   compound   xxxx              1      0\n",
      "tension      tension      NOUN   nsubj      xxxx              1      0\n",
      "of           of           ADP    prep       xx                1      1\n",
      "ethanol      ethanol      NOUN   pobj       xxxx              1      0\n",
      "at           at           ADP    prep       xx                1      1\n",
      "30           30           NUM    nummod     dd                0      0\n",
      "°            °            NUM    pobj       °                 0      0\n",
      "C            C            PROPN  pobj       X                 1      0\n",
      "?            ?            PUNCT  punct      ?                 0      0\n",
      "What         what         PRON   attr       Xxxx              1      1\n",
      "is           be           AUX    ROOT       xx                1      1\n",
      "the          the          DET    det        xxx               1      1\n",
      "pH           pH           PROPN  nsubj      xX                1      0\n",
      "of           of           ADP    prep       xx                1      1\n",
      "a            a            DET    det        x                 1      1\n",
      "0.1          0.1          NUM    nummod     d.d               0      0\n",
      "M            m            NUM    compound   X                 1      0\n",
      "HCl          HCl          PROPN  compound   XXx               1      0\n",
      "solution     solution     NOUN   pobj       xxxx              1      0\n",
      "at           at           ADP    prep       xx                1      1\n",
      "25           25           NUM    nummod     dd                0      0\n",
      "°            °            NUM    pobj       °                 0      0\n",
      "C            C            PROPN  pobj       X                 1      0\n",
      "?            ?            PUNCT  punct      ?                 0      0\n",
      "What         what         PRON   attr       Xxxx              1      1\n",
      "is           be           AUX    ROOT       xx                1      1\n",
      "the          the          DET    det        xxx               1      1\n",
      "enthalpy     enthalpy     NOUN   nsubj      xxxx              1      0\n",
      "of           of           ADP    prep       xx                1      1\n",
      "vaporization vaporization NOUN   pobj       xxxx              1      0\n",
      "of           of           ADP    prep       xx                1      1\n",
      "benzene      benzene      NOUN   pobj       xxxx              1      0\n",
      "at           at           ADP    prep       xx                1      1\n",
      "its          its          PRON   poss       xxx               1      1\n",
      "boiling      boiling      NOUN   compound   xxxx              1      0\n",
      "point        point        NOUN   pobj       xxxx              1      0\n",
      "?            ?            PUNCT  punct      ?                 0      0\n",
      "What         what         PRON   attr       Xxxx              1      1\n",
      "is           be           AUX    ROOT       xx                1      1\n",
      "the          the          DET    det        xxx               1      1\n",
      "compressibility compressibility NOUN   compound   xxxx              1      0\n",
      "factor       factor       NOUN   nsubj      xxxx              1      0\n",
      "of           of           ADP    prep       xx                1      1\n",
      "nitrogen     nitrogen     NOUN   compound   xxxx              1      0\n",
      "gas          gas          NOUN   pobj       xxx               1      0\n",
      "at           at           ADP    prep       xx                1      1\n",
      "300          300          NUM    nummod     ddd               0      0\n",
      "K            k            NOUN   pobj       X                 1      0\n",
      "and          and          CCONJ  cc         xxx               1      1\n",
      "10           10           NUM    nummod     dd                0      0\n",
      "atm          atm          NOUN   conj       xxx               1      0\n",
      "?            ?            PUNCT  punct      ?                 0      0\n",
      "What         what         PRON   attr       Xxxx              1      1\n",
      "is           be           AUX    ROOT       xx                1      1\n",
      "the          the          DET    det        xxx               1      1\n",
      "freezing     freezing     ADJ    amod       xxxx              1      0\n",
      "point        point        NOUN   nsubj      xxxx              1      0\n",
      "of           of           ADP    prep       xx                1      1\n",
      "a            a            DET    det        x                 1      1\n",
      "10           10           NUM    nummod     dd                0      0\n",
      "%            %            NOUN   compound   %                 0      0\n",
      "NaCl         NaCl         PROPN  compound   XxXx              1      0\n",
      "solution     solution     NOUN   pobj       xxxx              1      0\n",
      "?            ?            PUNCT  punct      ?                 0      0\n",
      "What         what         PRON   attr       Xxxx              1      1\n",
      "is           be           AUX    ROOT       xx                1      1\n",
      "the          the          DET    det        xxx               1      1\n",
      "electrical   electrical   ADJ    amod       xxxx              1      0\n",
      "conductivity conductivity NOUN   nsubj      xxxx              1      0\n",
      "of           of           ADP    prep       xx                1      1\n",
      "pure         pure         ADJ    amod       xxxx              1      0\n",
      "water        water        NOUN   pobj       xxxx              1      0\n",
      "at           at           ADP    prep       xx                1      1\n",
      "25           25           NUM    nummod     dd                0      0\n",
      "°            °            NUM    pobj       °                 0      0\n",
      "C            C            PROPN  pobj       X                 1      0\n",
      "?            ?            PUNCT  punct      ?                 0      0\n"
     ]
    }
   ],
   "source": [
    "# create a doc for each question\n",
    "docs = [nlp(question) for question in questions]\n",
    "\n",
    "for doc in docs:\n",
    "    for token in doc:\n",
    "        print(f\"{token.text:12} {token.lemma_:12} {token.pos_:6} {token.dep_:10} {token.shape_:12} {token.is_alpha:6} {token.is_stop:6}\")"
   ]
  },
  {
   "cell_type": "code",
   "execution_count": null,
   "id": "173fbf94",
   "metadata": {},
   "outputs": [
    {
     "data": {
      "text/html": [
       "<span class=\"tex2jax_ignore\"><div class=\"entities\" style=\"line-height: 2.5; direction: ltr\">What is the boiling point of ethanol at \n",
       "<mark class=\"entity\" style=\"background: #e4e7d2; padding: 0.45em 0.6em; margin: 0 0.25em; line-height: 1; border-radius: 0.35em;\">\n",
       "    1\n",
       "    <span style=\"font-size: 0.8em; font-weight: bold; line-height: 1; border-radius: 0.35em; vertical-align: middle; margin-left: 0.5rem\">CARDINAL</span>\n",
       "</mark>\n",
       " atm?</div></span>"
      ],
      "text/plain": [
       "<IPython.core.display.HTML object>"
      ]
     },
     "metadata": {},
     "output_type": "display_data"
    },
    {
     "data": {
      "text/html": [
       "<span class=\"tex2jax_ignore\"><div class=\"entities\" style=\"line-height: 2.5; direction: ltr\">How much does the density of mercury change at \n",
       "<mark class=\"entity\" style=\"background: #e4e7d2; padding: 0.45em 0.6em; margin: 0 0.25em; line-height: 1; border-radius: 0.35em;\">\n",
       "    25\n",
       "    <span style=\"font-size: 0.8em; font-weight: bold; line-height: 1; border-radius: 0.35em; vertical-align: middle; margin-left: 0.5rem\">CARDINAL</span>\n",
       "</mark>\n",
       " °C?</div></span>"
      ],
      "text/plain": [
       "<IPython.core.display.HTML object>"
      ]
     },
     "metadata": {},
     "output_type": "display_data"
    },
    {
     "name": "stderr",
     "output_type": "stream",
     "text": [
      "/usr/local/lib/python3.11/site-packages/spacy/displacy/__init__.py:213: UserWarning: [W006] No entities to visualize found in Doc object. If this is surprising to you, make sure the Doc was processed using a model that supports named entity recognition, and check the `doc.ents` property manually if necessary.\n",
      "  warnings.warn(Warnings.W006)\n"
     ]
    },
    {
     "data": {
      "text/html": [
       "<span class=\"tex2jax_ignore\"><div class=\"entities\" style=\"line-height: 2.5; direction: ltr\">What is the specific heat capacity of aluminum in its solid state?</div></span>"
      ],
      "text/plain": [
       "<IPython.core.display.HTML object>"
      ]
     },
     "metadata": {},
     "output_type": "display_data"
    },
    {
     "data": {
      "text/html": [
       "<span class=\"tex2jax_ignore\"><div class=\"entities\" style=\"line-height: 2.5; direction: ltr\">Can you tell me the viscosity of olive oil at \n",
       "<mark class=\"entity\" style=\"background: #e4e7d2; padding: 0.45em 0.6em; margin: 0 0.25em; line-height: 1; border-radius: 0.35em;\">\n",
       "    40 °\n",
       "    <span style=\"font-size: 0.8em; font-weight: bold; line-height: 1; border-radius: 0.35em; vertical-align: middle; margin-left: 0.5rem\">CARDINAL</span>\n",
       "</mark>\n",
       "C?</div></span>"
      ],
      "text/plain": [
       "<IPython.core.display.HTML object>"
      ]
     },
     "metadata": {},
     "output_type": "display_data"
    },
    {
     "data": {
      "text/html": [
       "<span class=\"tex2jax_ignore\"><div class=\"entities\" style=\"line-height: 2.5; direction: ltr\">What is the melting point of sodium chloride?</div></span>"
      ],
      "text/plain": [
       "<IPython.core.display.HTML object>"
      ]
     },
     "metadata": {},
     "output_type": "display_data"
    },
    {
     "data": {
      "text/html": [
       "<span class=\"tex2jax_ignore\"><div class=\"entities\" style=\"line-height: 2.5; direction: ltr\">How does the thermal conductivity of copper vary at \n",
       "<mark class=\"entity\" style=\"background: #e4e7d2; padding: 0.45em 0.6em; margin: 0 0.25em; line-height: 1; border-radius: 0.35em;\">\n",
       "    100 °\n",
       "    <span style=\"font-size: 0.8em; font-weight: bold; line-height: 1; border-radius: 0.35em; vertical-align: middle; margin-left: 0.5rem\">CARDINAL</span>\n",
       "</mark>\n",
       "C?</div></span>"
      ],
      "text/plain": [
       "<IPython.core.display.HTML object>"
      ]
     },
     "metadata": {},
     "output_type": "display_data"
    },
    {
     "data": {
      "text/html": [
       "<span class=\"tex2jax_ignore\"><div class=\"entities\" style=\"line-height: 2.5; direction: ltr\">What is the vapor pressure of acetone at \n",
       "<mark class=\"entity\" style=\"background: #e4e7d2; padding: 0.45em 0.6em; margin: 0 0.25em; line-height: 1; border-radius: 0.35em;\">\n",
       "    50 °\n",
       "    <span style=\"font-size: 0.8em; font-weight: bold; line-height: 1; border-radius: 0.35em; vertical-align: middle; margin-left: 0.5rem\">CARDINAL</span>\n",
       "</mark>\n",
       "C?</div></span>"
      ],
      "text/plain": [
       "<IPython.core.display.HTML object>"
      ]
     },
     "metadata": {},
     "output_type": "display_data"
    },
    {
     "data": {
      "text/html": [
       "<span class=\"tex2jax_ignore\"><div class=\"entities\" style=\"line-height: 2.5; direction: ltr\">What is the refractive index of water at \n",
       "<mark class=\"entity\" style=\"background: #e4e7d2; padding: 0.45em 0.6em; margin: 0 0.25em; line-height: 1; border-radius: 0.35em;\">\n",
       "    20\n",
       "    <span style=\"font-size: 0.8em; font-weight: bold; line-height: 1; border-radius: 0.35em; vertical-align: middle; margin-left: 0.5rem\">CARDINAL</span>\n",
       "</mark>\n",
       " °C?</div></span>"
      ],
      "text/plain": [
       "<IPython.core.display.HTML object>"
      ]
     },
     "metadata": {},
     "output_type": "display_data"
    },
    {
     "data": {
      "text/html": [
       "<span class=\"tex2jax_ignore\"><div class=\"entities\" style=\"line-height: 2.5; direction: ltr\">What is the solubility of carbon dioxide in water at \n",
       "<mark class=\"entity\" style=\"background: #e4e7d2; padding: 0.45em 0.6em; margin: 0 0.25em; line-height: 1; border-radius: 0.35em;\">\n",
       "    5 °\n",
       "    <span style=\"font-size: 0.8em; font-weight: bold; line-height: 1; border-radius: 0.35em; vertical-align: middle; margin-left: 0.5rem\">CARDINAL</span>\n",
       "</mark>\n",
       "C?</div></span>"
      ],
      "text/plain": [
       "<IPython.core.display.HTML object>"
      ]
     },
     "metadata": {},
     "output_type": "display_data"
    },
    {
     "data": {
      "text/html": [
       "<span class=\"tex2jax_ignore\"><div class=\"entities\" style=\"line-height: 2.5; direction: ltr\">What is the surface tension of ethanol at \n",
       "<mark class=\"entity\" style=\"background: #e4e7d2; padding: 0.45em 0.6em; margin: 0 0.25em; line-height: 1; border-radius: 0.35em;\">\n",
       "    30\n",
       "    <span style=\"font-size: 0.8em; font-weight: bold; line-height: 1; border-radius: 0.35em; vertical-align: middle; margin-left: 0.5rem\">CARDINAL</span>\n",
       "</mark>\n",
       " °C?</div></span>"
      ],
      "text/plain": [
       "<IPython.core.display.HTML object>"
      ]
     },
     "metadata": {},
     "output_type": "display_data"
    },
    {
     "data": {
      "text/html": [
       "<span class=\"tex2jax_ignore\"><div class=\"entities\" style=\"line-height: 2.5; direction: ltr\">What is the pH of a 0.1 M HCl solution at \n",
       "<mark class=\"entity\" style=\"background: #e4e7d2; padding: 0.45em 0.6em; margin: 0 0.25em; line-height: 1; border-radius: 0.35em;\">\n",
       "    25\n",
       "    <span style=\"font-size: 0.8em; font-weight: bold; line-height: 1; border-radius: 0.35em; vertical-align: middle; margin-left: 0.5rem\">CARDINAL</span>\n",
       "</mark>\n",
       " °C?</div></span>"
      ],
      "text/plain": [
       "<IPython.core.display.HTML object>"
      ]
     },
     "metadata": {},
     "output_type": "display_data"
    },
    {
     "data": {
      "text/html": [
       "<span class=\"tex2jax_ignore\"><div class=\"entities\" style=\"line-height: 2.5; direction: ltr\">What is the enthalpy of vaporization of benzene at its boiling point?</div></span>"
      ],
      "text/plain": [
       "<IPython.core.display.HTML object>"
      ]
     },
     "metadata": {},
     "output_type": "display_data"
    },
    {
     "data": {
      "text/html": [
       "<span class=\"tex2jax_ignore\"><div class=\"entities\" style=\"line-height: 2.5; direction: ltr\">What is the compressibility factor of nitrogen gas at \n",
       "<mark class=\"entity\" style=\"background: #e4e7d2; padding: 0.45em 0.6em; margin: 0 0.25em; line-height: 1; border-radius: 0.35em;\">\n",
       "    300\n",
       "    <span style=\"font-size: 0.8em; font-weight: bold; line-height: 1; border-radius: 0.35em; vertical-align: middle; margin-left: 0.5rem\">CARDINAL</span>\n",
       "</mark>\n",
       " K and \n",
       "<mark class=\"entity\" style=\"background: #e4e7d2; padding: 0.45em 0.6em; margin: 0 0.25em; line-height: 1; border-radius: 0.35em;\">\n",
       "    10\n",
       "    <span style=\"font-size: 0.8em; font-weight: bold; line-height: 1; border-radius: 0.35em; vertical-align: middle; margin-left: 0.5rem\">CARDINAL</span>\n",
       "</mark>\n",
       " atm?</div></span>"
      ],
      "text/plain": [
       "<IPython.core.display.HTML object>"
      ]
     },
     "metadata": {},
     "output_type": "display_data"
    },
    {
     "data": {
      "text/html": [
       "<span class=\"tex2jax_ignore\"><div class=\"entities\" style=\"line-height: 2.5; direction: ltr\">What is the freezing point of a \n",
       "<mark class=\"entity\" style=\"background: #e4e7d2; padding: 0.45em 0.6em; margin: 0 0.25em; line-height: 1; border-radius: 0.35em;\">\n",
       "    10%\n",
       "    <span style=\"font-size: 0.8em; font-weight: bold; line-height: 1; border-radius: 0.35em; vertical-align: middle; margin-left: 0.5rem\">PERCENT</span>\n",
       "</mark>\n",
       " NaCl solution?</div></span>"
      ],
      "text/plain": [
       "<IPython.core.display.HTML object>"
      ]
     },
     "metadata": {},
     "output_type": "display_data"
    },
    {
     "data": {
      "text/html": [
       "<span class=\"tex2jax_ignore\"><div class=\"entities\" style=\"line-height: 2.5; direction: ltr\">What is the electrical conductivity of pure water at \n",
       "<mark class=\"entity\" style=\"background: #e4e7d2; padding: 0.45em 0.6em; margin: 0 0.25em; line-height: 1; border-radius: 0.35em;\">\n",
       "    25\n",
       "    <span style=\"font-size: 0.8em; font-weight: bold; line-height: 1; border-radius: 0.35em; vertical-align: middle; margin-left: 0.5rem\">CARDINAL</span>\n",
       "</mark>\n",
       " °C?</div></span>"
      ],
      "text/plain": [
       "<IPython.core.display.HTML object>"
      ]
     },
     "metadata": {},
     "output_type": "display_data"
    }
   ],
   "source": [
    "for doc in docs:\n",
    "    displacy.render(doc, style=\"ent\")"
   ]
  }
 ],
 "metadata": {
  "kernelspec": {
   "display_name": "Python 3",
   "language": "python",
   "name": "python3"
  },
  "language_info": {
   "codemirror_mode": {
    "name": "ipython",
    "version": 3
   },
   "file_extension": ".py",
   "mimetype": "text/x-python",
   "name": "python",
   "nbconvert_exporter": "python",
   "pygments_lexer": "ipython3",
   "version": "3.11.13"
  }
 },
 "nbformat": 4,
 "nbformat_minor": 5
}
