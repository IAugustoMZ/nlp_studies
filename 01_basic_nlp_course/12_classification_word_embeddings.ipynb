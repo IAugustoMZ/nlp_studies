{
 "cells": [
  {
   "cell_type": "markdown",
   "id": "c4d5a934",
   "metadata": {},
   "source": [
    "# Basic NLP Course\n",
    "\n",
    "In this notebook, we will explore how to train models for text classification tasks using embeddings. Embeddings are dense vector representations of text that capture semantic meaning, enabling more effective and efficient learning for NLP tasks."
   ]
  },
  {
   "cell_type": "code",
   "execution_count": 12,
   "id": "7915b0c5",
   "metadata": {},
   "outputs": [],
   "source": [
    "import spacy\n",
    "import numpy as np\n",
    "import pandas as pd\n",
    "from sklearn.pipeline import Pipeline\n",
    "from sklearn.naive_bayes import MultinomialNB\n",
    "from sklearn.preprocessing import MinMaxScaler\n",
    "from sklearn.metrics import classification_report\n",
    "from sklearn.neighbors import KNeighborsClassifier\n",
    "from sklearn.model_selection import train_test_split\n",
    "\n",
    "\n",
    "# load large model\n",
    "nlp = spacy.load(\"en_core_web_lg\")"
   ]
  },
  {
   "cell_type": "code",
   "execution_count": 2,
   "id": "02b971b8",
   "metadata": {},
   "outputs": [
    {
     "data": {
      "text/html": [
       "<div>\n",
       "<style scoped>\n",
       "    .dataframe tbody tr th:only-of-type {\n",
       "        vertical-align: middle;\n",
       "    }\n",
       "\n",
       "    .dataframe tbody tr th {\n",
       "        vertical-align: top;\n",
       "    }\n",
       "\n",
       "    .dataframe thead th {\n",
       "        text-align: right;\n",
       "    }\n",
       "</style>\n",
       "<table border=\"1\" class=\"dataframe\">\n",
       "  <thead>\n",
       "    <tr style=\"text-align: right;\">\n",
       "      <th></th>\n",
       "      <th>failure_mode</th>\n",
       "      <th>description</th>\n",
       "    </tr>\n",
       "  </thead>\n",
       "  <tbody>\n",
       "    <tr>\n",
       "      <th>0</th>\n",
       "      <td>Internal leakage</td>\n",
       "      <td>Compressor CP-001 is experiencing internal lea...</td>\n",
       "    </tr>\n",
       "    <tr>\n",
       "      <th>1</th>\n",
       "      <td>Abnormal instrument reading</td>\n",
       "      <td>Compressor CP-101 is showing abnormal pressure...</td>\n",
       "    </tr>\n",
       "    <tr>\n",
       "      <th>2</th>\n",
       "      <td>Abnormal instrument reading</td>\n",
       "      <td>Compressor C-101 is giving an abnormal high pr...</td>\n",
       "    </tr>\n",
       "    <tr>\n",
       "      <th>3</th>\n",
       "      <td>Abnormal instrument reading</td>\n",
       "      <td>Compressor C-101-A is giving abnormal instrume...</td>\n",
       "    </tr>\n",
       "    <tr>\n",
       "      <th>4</th>\n",
       "      <td>Abnormal instrument reading</td>\n",
       "      <td>Compressor CP-101 is giving an abnormal instru...</td>\n",
       "    </tr>\n",
       "  </tbody>\n",
       "</table>\n",
       "</div>"
      ],
      "text/plain": [
       "                  failure_mode  \\\n",
       "0             Internal leakage   \n",
       "1  Abnormal instrument reading   \n",
       "2  Abnormal instrument reading   \n",
       "3  Abnormal instrument reading   \n",
       "4  Abnormal instrument reading   \n",
       "\n",
       "                                         description  \n",
       "0  Compressor CP-001 is experiencing internal lea...  \n",
       "1  Compressor CP-101 is showing abnormal pressure...  \n",
       "2  Compressor C-101 is giving an abnormal high pr...  \n",
       "3  Compressor C-101-A is giving abnormal instrume...  \n",
       "4  Compressor CP-101 is giving an abnormal instru...  "
      ]
     },
     "execution_count": 2,
     "metadata": {},
     "output_type": "execute_result"
    }
   ],
   "source": [
    "# load work order samples\n",
    "data = pd.read_csv('../data/work_orders_sample.csv')\n",
    "data.head()"
   ]
  },
  {
   "cell_type": "code",
   "execution_count": 3,
   "id": "f8e3a76d",
   "metadata": {},
   "outputs": [
    {
     "name": "stdout",
     "output_type": "stream",
     "text": [
      "   failure_mode                                        description\n",
      "0             5  Compressor CP-001 is experiencing internal lea...\n",
      "1            17  Compressor CP-101 is showing abnormal pressure...\n",
      "2            17  Compressor C-101 is giving an abnormal high pr...\n",
      "3            17  Compressor C-101-A is giving abnormal instrume...\n",
      "4            17  Compressor CP-101 is giving an abnormal instru...\n",
      "{'Failure to stop on demand': 0, 'High output': 1, 'Breakdown': 2, 'Overheating': 3, 'External leakage - utility medium': 4, 'Internal leakage': 5, 'Erratic output': 6, 'Low output': 7, 'Minor in-service problems': 8, 'Noise': 9, 'Vibration': 10, 'Structural deficiency': 11, 'Plugged / Choked': 12, 'Failure to start on demand': 13, 'Spurious stop': 14, 'External leakage - process medium': 15, 'Parameter deviation': 16, 'Abnormal instrument reading': 17}\n"
     ]
    }
   ],
   "source": [
    "# Create a set of unique failure modes\n",
    "failure_mode_set = set(data['failure_mode'])\n",
    "\n",
    "# Map each failure mode to an index\n",
    "failure_mode_mapping = {mode: idx for idx, mode in enumerate(failure_mode_set)}\n",
    "\n",
    "# Replace the failure_mode column with the corresponding indices\n",
    "data['failure_mode'] = data['failure_mode'].map(failure_mode_mapping)\n",
    "\n",
    "# Display the updated dataframe and the mapping\n",
    "print(data.head())\n",
    "print(failure_mode_mapping)"
   ]
  },
  {
   "cell_type": "code",
   "execution_count": 4,
   "id": "33501ad2",
   "metadata": {},
   "outputs": [
    {
     "data": {
      "text/html": [
       "<div>\n",
       "<style scoped>\n",
       "    .dataframe tbody tr th:only-of-type {\n",
       "        vertical-align: middle;\n",
       "    }\n",
       "\n",
       "    .dataframe tbody tr th {\n",
       "        vertical-align: top;\n",
       "    }\n",
       "\n",
       "    .dataframe thead th {\n",
       "        text-align: right;\n",
       "    }\n",
       "</style>\n",
       "<table border=\"1\" class=\"dataframe\">\n",
       "  <thead>\n",
       "    <tr style=\"text-align: right;\">\n",
       "      <th></th>\n",
       "      <th>failure_mode</th>\n",
       "      <th>description</th>\n",
       "      <th>vector</th>\n",
       "    </tr>\n",
       "  </thead>\n",
       "  <tbody>\n",
       "    <tr>\n",
       "      <th>0</th>\n",
       "      <td>5</td>\n",
       "      <td>Compressor CP-001 is experiencing internal lea...</td>\n",
       "      <td>[0.038941465, 0.26220626, -0.10477795, 0.04772...</td>\n",
       "    </tr>\n",
       "    <tr>\n",
       "      <th>1</th>\n",
       "      <td>17</td>\n",
       "      <td>Compressor CP-101 is showing abnormal pressure...</td>\n",
       "      <td>[-0.051272765, 0.27505192, -0.09706584, 0.0453...</td>\n",
       "    </tr>\n",
       "    <tr>\n",
       "      <th>2</th>\n",
       "      <td>17</td>\n",
       "      <td>Compressor C-101 is giving an abnormal high pr...</td>\n",
       "      <td>[-0.041457046, 0.3033054, -0.05593128, 0.02128...</td>\n",
       "    </tr>\n",
       "    <tr>\n",
       "      <th>3</th>\n",
       "      <td>17</td>\n",
       "      <td>Compressor C-101-A is giving abnormal instrume...</td>\n",
       "      <td>[-0.0275956, 0.27556953, -0.09625757, 0.077970...</td>\n",
       "    </tr>\n",
       "    <tr>\n",
       "      <th>4</th>\n",
       "      <td>17</td>\n",
       "      <td>Compressor CP-101 is giving an abnormal instru...</td>\n",
       "      <td>[-0.054595143, 0.28313974, -0.09315031, 0.0417...</td>\n",
       "    </tr>\n",
       "  </tbody>\n",
       "</table>\n",
       "</div>"
      ],
      "text/plain": [
       "   failure_mode                                        description  \\\n",
       "0             5  Compressor CP-001 is experiencing internal lea...   \n",
       "1            17  Compressor CP-101 is showing abnormal pressure...   \n",
       "2            17  Compressor C-101 is giving an abnormal high pr...   \n",
       "3            17  Compressor C-101-A is giving abnormal instrume...   \n",
       "4            17  Compressor CP-101 is giving an abnormal instru...   \n",
       "\n",
       "                                              vector  \n",
       "0  [0.038941465, 0.26220626, -0.10477795, 0.04772...  \n",
       "1  [-0.051272765, 0.27505192, -0.09706584, 0.0453...  \n",
       "2  [-0.041457046, 0.3033054, -0.05593128, 0.02128...  \n",
       "3  [-0.0275956, 0.27556953, -0.09625757, 0.077970...  \n",
       "4  [-0.054595143, 0.28313974, -0.09315031, 0.0417...  "
      ]
     },
     "execution_count": 4,
     "metadata": {},
     "output_type": "execute_result"
    }
   ],
   "source": [
    "# create the vector columns\n",
    "data['vector'] = data['description'].apply(lambda desc: nlp(desc).vector)\n",
    "data.head()"
   ]
  },
  {
   "cell_type": "code",
   "execution_count": 5,
   "id": "4ce28847",
   "metadata": {},
   "outputs": [],
   "source": [
    "# split the data\n",
    "x_train, x_test, y_train, y_test = train_test_split(\n",
    "    data['vector'],\n",
    "    data['failure_mode'],\n",
    "    test_size=0.2,\n",
    "    random_state=42,\n",
    "    stratify=data['failure_mode']\n",
    ")"
   ]
  },
  {
   "cell_type": "code",
   "execution_count": 6,
   "id": "2010fca7",
   "metadata": {},
   "outputs": [],
   "source": [
    "x_train = np.stack(x_train)\n",
    "x_test = np.stack(x_test)"
   ]
  },
  {
   "cell_type": "code",
   "execution_count": 10,
   "id": "f5756da2",
   "metadata": {},
   "outputs": [],
   "source": [
    "# create a pipeline\n",
    "pipeline = Pipeline([\n",
    "    ('scaler', MinMaxScaler()),\n",
    "    ('classifier', MultinomialNB())\n",
    "])\n",
    "\n",
    "# train the model\n",
    "pipeline.fit(x_train, y_train)\n",
    "\n",
    "# make predictions\n",
    "y_pred = pipeline.predict(x_test)"
   ]
  },
  {
   "cell_type": "code",
   "execution_count": 11,
   "id": "c1cac83c",
   "metadata": {},
   "outputs": [
    {
     "name": "stdout",
     "output_type": "stream",
     "text": [
      "                                   precision    recall  f1-score   support\n",
      "\n",
      "        Failure to stop on demand       1.00      0.21      0.35        14\n",
      "                      High output       0.56      0.36      0.43        14\n",
      "                        Breakdown       0.68      0.97      0.80        79\n",
      "                      Overheating       1.00      0.43      0.60        14\n",
      "External leakage - utility medium       0.98      0.74      0.84        61\n",
      "                 Internal leakage       0.43      0.21      0.29        14\n",
      "                   Erratic output       0.85      0.97      0.91        80\n",
      "                       Low output       0.43      0.21      0.29        14\n",
      "        Minor in-service problems       0.88      0.50      0.64        14\n",
      "                            Noise       0.88      0.50      0.64        14\n",
      "                        Vibration       0.75      0.64      0.69        14\n",
      "            Structural deficiency       1.00      0.71      0.83        14\n",
      "                 Plugged / Choked       0.83      0.71      0.77        14\n",
      "       Failure to start on demand       0.69      0.93      0.79        41\n",
      "                    Spurious stop       0.82      0.64      0.72        14\n",
      "External leakage - process medium       0.76      0.97      0.86        80\n",
      "              Parameter deviation       0.88      0.50      0.64        14\n",
      "      Abnormal instrument reading       0.95      0.95      0.95        78\n",
      "\n",
      "                         accuracy                           0.80       587\n",
      "                        macro avg       0.80      0.62      0.67       587\n",
      "                     weighted avg       0.81      0.80      0.78       587\n",
      "\n"
     ]
    }
   ],
   "source": [
    "# print classification report\n",
    "print(classification_report(y_test, y_pred, target_names=failure_mode_mapping.keys()))"
   ]
  },
  {
   "cell_type": "code",
   "execution_count": 13,
   "id": "45ff4ebe",
   "metadata": {},
   "outputs": [
    {
     "name": "stdout",
     "output_type": "stream",
     "text": [
      "                                   precision    recall  f1-score   support\n",
      "\n",
      "        Failure to stop on demand       0.58      0.79      0.67        14\n",
      "                      High output       0.24      0.29      0.26        14\n",
      "                        Breakdown       0.92      0.91      0.92        79\n",
      "                      Overheating       1.00      0.57      0.73        14\n",
      "External leakage - utility medium       0.95      0.98      0.97        61\n",
      "                 Internal leakage       0.62      0.57      0.59        14\n",
      "                   Erratic output       0.85      0.96      0.90        80\n",
      "                       Low output       0.29      0.29      0.29        14\n",
      "        Minor in-service problems       0.89      0.57      0.70        14\n",
      "                            Noise       0.67      0.71      0.69        14\n",
      "                        Vibration       0.83      0.71      0.77        14\n",
      "            Structural deficiency       1.00      0.79      0.88        14\n",
      "                 Plugged / Choked       0.93      0.93      0.93        14\n",
      "       Failure to start on demand       0.83      0.85      0.84        41\n",
      "                    Spurious stop       0.91      0.71      0.80        14\n",
      "External leakage - process medium       0.94      0.99      0.96        80\n",
      "              Parameter deviation       1.00      0.43      0.60        14\n",
      "      Abnormal instrument reading       0.94      0.96      0.95        78\n",
      "\n",
      "                         accuracy                           0.85       587\n",
      "                        macro avg       0.80      0.72      0.75       587\n",
      "                     weighted avg       0.86      0.85      0.85       587\n",
      "\n"
     ]
    }
   ],
   "source": [
    "# train a kNN model\n",
    "knn_pipeline = Pipeline([\n",
    "    ('scaler', MinMaxScaler()),\n",
    "    ('classifier', KNeighborsClassifier(n_neighbors=5, metric='euclidean'))\n",
    "])\n",
    "\n",
    "knn_pipeline.fit(x_train, y_train)\n",
    "y_pred = knn_pipeline.predict(x_test)\n",
    "\n",
    "# print classification report\n",
    "print(classification_report(y_test, y_pred, target_names=failure_mode_mapping.keys()))"
   ]
  },
  {
   "cell_type": "markdown",
   "id": "fc5ae121",
   "metadata": {},
   "source": [
    "# Why Embeddings Underperform Compared to Bag-of-n-Grams\n",
    "\n",
    "## 1. Class Distribution and Rarity\n",
    "- The dataset is **imbalanced**: some classes have 80 samples, others only 14.  \n",
    "- Embeddings smooth differences in vector space, so **rare classes with overlapping semantics** (e.g., *High output* vs *Low output*) get misclassified.  \n",
    "- Bag-of-n-Grams relies on **hard lexical cues** (“high”, “low”) that help distinguish these small classes.\n",
    "\n",
    "## 2. Nature of Work Order Texts\n",
    "- Work order descriptions are **short, formulaic, and jargon-heavy**.  \n",
    "- Embeddings work best in **longer contexts**, where semantic similarity matters.  \n",
    "- Here, **small token changes** (“fail to start” vs “fail to stop”) are crucial; Bag-of-n-Grams preserves these distinctions, embeddings blur them.\n",
    "\n",
    "## 3. General vs Domain-Specific Vocabulary\n",
    "- SpaCy’s embeddings are trained on **general text corpora** (Wikipedia, Common Crawl).  \n",
    "- Technical terms (*choked, erratic output, parameter deviation*) may be poorly represented.  \n",
    "- Bag-of-n-Grams learns **directly from the dataset**, avoiding this mismatch.\n",
    "\n",
    "## 4. Model Bias Toward Frequent Classes\n",
    "- Embeddings rely on **semantic closeness**, which favors **majority classes** that dominate vector space representation.  \n",
    "- Sparse Bag-of-n-Grams gives rare classes more weight if they use **unique terms**.\n",
    "\n",
    "## 5. Task Requirements\n",
    "- Failure mode classification depends on **precise keywords** (e.g., “overheating”, “leakage”).  \n",
    "- Embeddings may cluster “overheating” with “hot” or “temperature rise,” but in this dataset only the **exact term** matters.  \n",
    "- Bag-of-n-Grams outperforms because the task rewards **lexical precision over semantic similarity**.\n",
    "\n",
    "---\n",
    "\n",
    "## Key Takeaway\n",
    "Embeddings underperform because they **over-generalize** in a setting where:\n",
    "- The dataset is **small and imbalanced**.  \n",
    "- The texts are **short and keyword-driven**.  \n",
    "- The domain vocabulary is **poorly covered** by pre-trained vectors.  \n",
    "\n",
    "Bag-of-n-Grams, despite being simple, is better aligned with the task because it captures **explicit lexical cues**.\n"
   ]
  },
  {
   "cell_type": "markdown",
   "id": "c426cb1a",
   "metadata": {},
   "source": []
  }
 ],
 "metadata": {
  "kernelspec": {
   "display_name": "Python 3",
   "language": "python",
   "name": "python3"
  },
  "language_info": {
   "codemirror_mode": {
    "name": "ipython",
    "version": 3
   },
   "file_extension": ".py",
   "mimetype": "text/x-python",
   "name": "python",
   "nbconvert_exporter": "python",
   "pygments_lexer": "ipython3",
   "version": "3.11.13"
  }
 },
 "nbformat": 4,
 "nbformat_minor": 5
}
