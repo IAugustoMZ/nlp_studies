{
 "cells": [
  {
   "cell_type": "markdown",
   "id": "b7f3b825",
   "metadata": {},
   "source": [
    "# Basic NLP Course\n",
    "\n",
    "## Regular Expression\n",
    "\n",
    "This is the first class of the Basic NLP Course, where we will focus on understanding and applying Regular Expressions (Regex). Regex is a powerful tool for text processing and pattern matching, which forms the foundation for many Natural Language Processing (NLP) tasks.\n",
    "\n",
    "Good reference: [Regex101](https://regex101.com/)\n",
    "\n",
    "### Applications in Chemical and Process Engineering\n",
    "\n",
    "Regular Expressions can be applied in various chemical and process engineering tasks, such as:\n",
    "\n",
    "- **Data Cleaning and Preprocessing**: Extracting and formatting experimental data from unstructured text files or reports.\n",
    "- **Parsing Chemical Formulas**: Identifying and validating chemical formulas or reaction equations from text.\n",
    "- **Log File Analysis**: Analyzing process logs to detect anomalies or patterns in operational data.\n",
    "- **Simulation Input Validation**: Ensuring that input files for simulation software adhere to specific formats.\n",
    "- **Text Mining**: Extracting relevant information from research papers, patents, or technical documents.\n",
    "\n",
    "Regex provides a systematic way to handle these tasks efficiently, saving time and reducing errors."
   ]
  },
  {
   "cell_type": "code",
   "execution_count": 1,
   "id": "2df74da0",
   "metadata": {},
   "outputs": [],
   "source": [
    "import re"
   ]
  },
  {
   "cell_type": "code",
   "execution_count": 2,
   "id": "306ecd56",
   "metadata": {},
   "outputs": [
    {
     "name": "stdout",
     "output_type": "stream",
     "text": [
      "C@ll me @t 1234567890 wh3n you g3t th!s m3ss@ge!!\n",
      "H3y, my n3w numb3r is 9876543210. S@ve !t, plz.\n",
      "Th3 ev3nt st@rts @t 6 PM. C0nt@ct 5556667777 4 d3tails.\n",
      "R@nd0m t3xt w!th a numb3r 1112223333 in b3tw33n.\n",
      "Re@ch 0ut t0 supp0rt @t 4445556666 f0r @ssist@nc3.\n",
      "Call me at 1231231234 when you get this message.\n",
      "Hey, my new number is 3213214321. Save it, please.\n",
      "The quick brown fox jumps over the lazy dog. No numbers here!\n",
      "Contact us at support@example.com for more information.\n",
      "Meeting rescheduled to 3 PM tomorrow. No phone number included.\n"
     ]
    }
   ],
   "source": [
    "# Example of more noisy and unstructured texts with phone numbers\n",
    "noisy_texts = [\n",
    "    \"C@ll me @t 1234567890 wh3n you g3t th!s m3ss@ge!!\",\n",
    "    \"H3y, my n3w numb3r is 9876543210. S@ve !t, plz.\",\n",
    "    \"Th3 ev3nt st@rts @t 6 PM. C0nt@ct 5556667777 4 d3tails.\",\n",
    "    \"R@nd0m t3xt w!th a numb3r 1112223333 in b3tw33n.\",\n",
    "    \"Re@ch 0ut t0 supp0rt @t 4445556666 f0r @ssist@nc3.\",\n",
    "    \"Call me at 1231231234 when you get this message.\",\n",
    "    \"Hey, my new number is 3213214321. Save it, please.\",\n",
    "    \"The quick brown fox jumps over the lazy dog. No numbers here!\",\n",
    "    \"Contact us at support@example.com for more information.\",\n",
    "    \"Meeting rescheduled to 3 PM tomorrow. No phone number included.\"\n",
    "]\n",
    "\n",
    "# Display the noisy texts\n",
    "for text in noisy_texts:\n",
    "    print(text)"
   ]
  },
  {
   "cell_type": "code",
   "execution_count": null,
   "id": "817c1cef",
   "metadata": {},
   "outputs": [
    {
     "name": "stdout",
     "output_type": "stream",
     "text": [
      "Chat C@ll me @t 1234567890 wh3n you g3t th!s m3ss@ge!!\n",
      "Phones:  1234567890\n",
      "Chat H3y, my n3w numb3r is 9876543210. S@ve !t, plz.\n",
      "Phones:  9876543210\n",
      "Chat Th3 ev3nt st@rts @t 6 PM. C0nt@ct 5556667777 4 d3tails.\n",
      "Phones:  5556667777\n",
      "Chat R@nd0m t3xt w!th a numb3r 1112223333 in b3tw33n.\n",
      "Phones:  1112223333\n",
      "Chat Re@ch 0ut t0 supp0rt @t 4445556666 f0r @ssist@nc3.\n",
      "Phones:  4445556666\n",
      "Chat Call me at 1231231234 when you get this message.\n",
      "Phones:  1231231234\n",
      "Chat Hey, my new number is 3213214321. Save it, please.\n",
      "Phones:  3213214321\n",
      "Chat The quick brown fox jumps over the lazy dog. No numbers here!\n",
      "Chat Contact us at support@example.com for more information.\n",
      "Chat Meeting rescheduled to 3 PM tomorrow. No phone number included.\n"
     ]
    }
   ],
   "source": [
    "# lets identifiy the phone numbers\n",
    "pattern = '\\d\\d\\d\\d\\d\\d\\d\\d\\d\\d'\n",
    "\n",
    "for text in noisy_texts:\n",
    "    matches = re.findall(pattern, text)\n",
    "\n",
    "    print('Chat:', text)\n",
    "    for match in matches:\n",
    "        print('Phones: ', match)"
   ]
  },
  {
   "cell_type": "code",
   "execution_count": 11,
   "id": "628b0292",
   "metadata": {},
   "outputs": [
    {
     "name": "stdout",
     "output_type": "stream",
     "text": [
      "Chat: C@ll me @t 1234567890 wh3n you g3t th!s m3ss@ge!!\n",
      "Phones:  1234567890\n",
      "Chat: H3y, my n3w numb3r is 9876543210. S@ve !t, plz.\n",
      "Phones:  9876543210\n",
      "Chat: Th3 ev3nt st@rts @t 6 PM. C0nt@ct 5556667777 4 d3tails.\n",
      "Phones:  5556667777\n",
      "Chat: R@nd0m t3xt w!th a numb3r 1112223333 in b3tw33n.\n",
      "Phones:  1112223333\n",
      "Chat: Re@ch 0ut t0 supp0rt @t 4445556666 f0r @ssist@nc3.\n",
      "Phones:  4445556666\n",
      "Chat: Call me at 1231231234 when you get this message.\n",
      "Phones:  1231231234\n",
      "Chat: Hey, my new number is 3213214321. Save it, please.\n",
      "Phones:  3213214321\n",
      "Chat: The quick brown fox jumps over the lazy dog. No numbers here!\n",
      "Chat: Contact us at support@example.com for more information.\n",
      "Chat: Meeting rescheduled to 3 PM tomorrow. No phone number included.\n"
     ]
    }
   ],
   "source": [
    "# try other valid pattern\n",
    "pattern = '\\d{10}'\n",
    "\n",
    "for text in noisy_texts:\n",
    "    matches = re.findall(pattern, text)\n",
    "\n",
    "    print('Chat:', text)\n",
    "    for match in matches:\n",
    "        print('Phones: ', match)"
   ]
  },
  {
   "cell_type": "code",
   "execution_count": 16,
   "id": "17a68be0",
   "metadata": {},
   "outputs": [
    {
     "name": "stdout",
     "output_type": "stream",
     "text": [
      "Chat: Call me at (123)-4567890 when you get this message.\n",
      "Phones:  (123)\n",
      "Chat: Hey, my new number is (987)-6543210. Save it, please.\n",
      "Phones:  (987)\n",
      "Chat: The event starts at 6 PM. Contact (555)-6667777 for details.\n",
      "Phones:  (555)\n",
      "Chat: Random text with a number (111)-2223333 in between.\n",
      "Phones:  (111)\n",
      "Chat: Reach out to support at (444)-5556666 for assistance.\n",
      "Phones:  (444)\n",
      "Chat: No phone number here, just some random text.\n",
      "Chat: Another example: (321)-3214321.\n",
      "Phones:  (321)\n"
     ]
    }
   ],
   "source": [
    "# Pattern for phone numbers in the format (XXX)-XXXXXXX\n",
    "pattern = r'\\(\\d{3}\\)'\n",
    "\n",
    "# Example texts with (XXX)-XXXXXXX format\n",
    "formatted_texts = [\n",
    "    \"Call me at (123)-4567890 when you get this message.\",\n",
    "    \"Hey, my new number is (987)-6543210. Save it, please.\",\n",
    "    \"The event starts at 6 PM. Contact (555)-6667777 for details.\",\n",
    "    \"Random text with a number (111)-2223333 in between.\",\n",
    "    \"Reach out to support at (444)-5556666 for assistance.\",\n",
    "    \"No phone number here, just some random text.\",\n",
    "    \"Another example: (321)-3214321.\"\n",
    "]\n",
    "\n",
    "# Display matches for the (XXX)-XXXXXXX pattern\n",
    "for text in formatted_texts:\n",
    "    matches = re.findall(pattern, text)\n",
    "    print('Chat:', text)\n",
    "    for match in matches:\n",
    "        print('Phones: ', match)"
   ]
  },
  {
   "cell_type": "code",
   "execution_count": 17,
   "id": "54ea444c",
   "metadata": {},
   "outputs": [
    {
     "name": "stdout",
     "output_type": "stream",
     "text": [
      "Chat: Call me at (123)-4567890 when you get this message.\n",
      "Phones:  (123)-4567890\n",
      "Chat: Hey, my new number is (987)-6543210. Save it, please.\n",
      "Phones:  (987)-6543210\n",
      "Chat: The event starts at 6 PM. Contact (555)-6667777 for details.\n",
      "Phones:  (555)-6667777\n",
      "Chat: Random text with a number (111)-2223333 in between.\n",
      "Phones:  (111)-2223333\n",
      "Chat: Reach out to support at (444)-5556666 for assistance.\n",
      "Phones:  (444)-5556666\n",
      "Chat: No phone number here, just some random text.\n",
      "Chat: Another example: (321)-3214321.\n",
      "Phones:  (321)-3214321\n"
     ]
    }
   ],
   "source": [
    "# Pattern for phone numbers in the format (XXX)-XXXXXXX\n",
    "pattern = r'\\(\\d{3}\\)-\\d{7}'\n",
    "\n",
    "# Example texts with (XXX)-XXXXXXX format\n",
    "formatted_texts = [\n",
    "    \"Call me at (123)-4567890 when you get this message.\",\n",
    "    \"Hey, my new number is (987)-6543210. Save it, please.\",\n",
    "    \"The event starts at 6 PM. Contact (555)-6667777 for details.\",\n",
    "    \"Random text with a number (111)-2223333 in between.\",\n",
    "    \"Reach out to support at (444)-5556666 for assistance.\",\n",
    "    \"No phone number here, just some random text.\",\n",
    "    \"Another example: (321)-3214321.\"\n",
    "]\n",
    "\n",
    "# Display matches for the (XXX)-XXXXXXX pattern\n",
    "for text in formatted_texts:\n",
    "    matches = re.findall(pattern, text)\n",
    "    print('Chat:', text)\n",
    "    for match in matches:\n",
    "        print('Phones: ', match)"
   ]
  },
  {
   "cell_type": "code",
   "execution_count": 19,
   "id": "9fcf340a",
   "metadata": {},
   "outputs": [
    {
     "name": "stdout",
     "output_type": "stream",
     "text": [
      "Chat: C@ll me @t 1234567890 wh3n you g3t th!s m3ss@ge!!\n",
      "Phones:  1234567890\n",
      "Chat: H3y, my n3w numb3r is 9876543210. S@ve !t, plz.\n",
      "Phones:  9876543210\n",
      "Chat: Th3 ev3nt st@rts @t 6 PM. C0nt@ct 5556667777 4 d3tails.\n",
      "Phones:  5556667777\n",
      "Chat: R@nd0m t3xt w!th a numb3r 1112223333 in b3tw33n.\n",
      "Phones:  1112223333\n",
      "Chat: Re@ch 0ut t0 supp0rt @t 4445556666 f0r @ssist@nc3.\n",
      "Phones:  4445556666\n",
      "Chat: Call me at 1231231234 when you get this message.\n",
      "Phones:  1231231234\n",
      "Chat: Hey, my new number is 3213214321. Save it, please.\n",
      "Phones:  3213214321\n",
      "Chat: The quick brown fox jumps over the lazy dog. No numbers here!\n",
      "Chat: Contact us at support@example.com for more information.\n",
      "Chat: Meeting rescheduled to 3 PM tomorrow. No phone number included.\n",
      "Chat: Call me at (123)-4567890 when you get this message.\n",
      "Phones:  (123)-4567890\n",
      "Chat: Hey, my new number is (987)-6543210. Save it, please.\n",
      "Phones:  (987)-6543210\n",
      "Chat: The event starts at 6 PM. Contact (555)-6667777 for details.\n",
      "Phones:  (555)-6667777\n",
      "Chat: Random text with a number (111)-2223333 in between.\n",
      "Phones:  (111)-2223333\n",
      "Chat: Reach out to support at (444)-5556666 for assistance.\n",
      "Phones:  (444)-5556666\n",
      "Chat: No phone number here, just some random text.\n",
      "Chat: Another example: (321)-3214321.\n",
      "Phones:  (321)-3214321\n"
     ]
    }
   ],
   "source": [
    "# Combine both lists\n",
    "combined_texts = noisy_texts + formatted_texts\n",
    "\n",
    "# Pattern to match both plain 10-digit numbers and (XXX)-XXXXXXX format\n",
    "pattern1 = r'\\d{10}'\n",
    "pattern2 = r'\\(\\d{3}\\)-\\d{7}'\n",
    "pattern = f\"({pattern1}|{pattern2})\"\n",
    "\n",
    "# | is the OR operator\n",
    "# Display matches for the (XXX)-XXXXXXX pattern\n",
    "for text in combined_texts:\n",
    "    matches = re.findall(pattern, text)\n",
    "    print('Chat:', text)\n",
    "    for match in matches:\n",
    "        print('Phones: ', match)"
   ]
  },
  {
   "cell_type": "code",
   "execution_count": 21,
   "id": "225c155b",
   "metadata": {},
   "outputs": [
    {
     "name": "stdout",
     "output_type": "stream",
     "text": [
      "Chat: Contact us at support@example.com for more information.\n",
      "Match: support@\n",
      "Chat: Send your feedback to feedback@company.org.\n",
      "Match: feedback@\n",
      "Chat: Reach out to john.doe123@university.edu for academic queries.\n",
      "Match: @\n",
      "Chat: No email here, just some random text.\n",
      "Chat: Another example: jane-doe@sub.domain.co.uk.\n",
      "Match: doe@\n"
     ]
    }
   ],
   "source": [
    "# Example texts with email addresses\n",
    "email_texts = [\n",
    "    \"Contact us at support@example.com for more information.\",\n",
    "    \"Send your feedback to feedback@company.org.\",\n",
    "    \"Reach out to john.doe123@university.edu for academic queries.\",\n",
    "    \"No email here, just some random text.\",\n",
    "    \"Another example: jane-doe@sub.domain.co.uk.\"\n",
    "]\n",
    "\n",
    "# pattern\n",
    "email_pattern1 = r'[a-z]*@'\n",
    "\n",
    "def extract_matches(texts, pattern):\n",
    "    \"\"\"\n",
    "    Extracts and prints matches from a list of texts based on the provided regex pattern.\n",
    "\n",
    "    Args:\n",
    "        texts (list): List of texts to search for matches.\n",
    "        pattern (str): Regular expression pattern to match.\n",
    "    \"\"\"\n",
    "    for text in texts:\n",
    "        print('Chat:', text)\n",
    "        matches = re.findall(pattern, text)\n",
    "        for match in matches:\n",
    "            print('Match:', match)\n",
    "\n",
    "# Call the function\n",
    "extract_matches(email_texts, email)"
   ]
  },
  {
   "cell_type": "code",
   "execution_count": 23,
   "id": "5effedd0",
   "metadata": {},
   "outputs": [
    {
     "name": "stdout",
     "output_type": "stream",
     "text": [
      "Chat: Contact us at support@example.com for more information.\n",
      "Match: support@\n",
      "Chat: Send your feedback to feedback@company.org.\n",
      "Match: feedback@\n",
      "Chat: Reach out to john.doe123@university.edu for academic queries.\n",
      "Match: @\n",
      "Chat: No email here, just some random text.\n",
      "Chat: Another example: jane-doe@sub.domain.co.uk.\n",
      "Match: doe@\n"
     ]
    }
   ],
   "source": [
    "# let's improve a little bit the pattern\n",
    "email_pattern2 = r'[a-zA-Z]*@'\n",
    "\n",
    "extract_matches(email_texts, email_pattern2)"
   ]
  },
  {
   "cell_type": "code",
   "execution_count": 24,
   "id": "52a20a84",
   "metadata": {},
   "outputs": [
    {
     "name": "stdout",
     "output_type": "stream",
     "text": [
      "Chat: Contact us at support@example.com for more information.\n",
      "Match: support@\n",
      "Chat: Send your feedback to feedback@company.org.\n",
      "Match: feedback@\n",
      "Chat: Reach out to john.doe123@university.edu for academic queries.\n",
      "Match: doe123@\n",
      "Chat: No email here, just some random text.\n",
      "Chat: Another example: jane-doe@sub.domain.co.uk.\n",
      "Match: doe@\n"
     ]
    }
   ],
   "source": [
    "# imprpve a little bit more\n",
    "email_pattern3 = r'[a-zA-Z0-9]*@'\n",
    "\n",
    "extract_matches(email_texts, email_pattern3)"
   ]
  },
  {
   "cell_type": "code",
   "execution_count": 25,
   "id": "ddaad082",
   "metadata": {},
   "outputs": [
    {
     "name": "stdout",
     "output_type": "stream",
     "text": [
      "Chat: Contact us at support@example.com for more information.\n",
      "Match: support@\n",
      "Chat: Send your feedback to feedback@company.org.\n",
      "Match: feedback@\n",
      "Chat: Reach out to john.doe123@university.edu for academic queries.\n",
      "Match: john.doe123@\n",
      "Chat: No email here, just some random text.\n",
      "Chat: Another example: jane-doe@sub.domain.co.uk.\n",
      "Match: doe@\n"
     ]
    }
   ],
   "source": [
    "# get dots and _\n",
    "email_pattern4 = r'[a-zA-Z0-9._]*@'\n",
    "\n",
    "extract_matches(email_texts, email_pattern4)"
   ]
  },
  {
   "cell_type": "code",
   "execution_count": 30,
   "id": "659f50d4",
   "metadata": {},
   "outputs": [
    {
     "name": "stdout",
     "output_type": "stream",
     "text": [
      "Chat: Contact us at support@example.com for more information.\n",
      "Match: support@\n",
      "Chat: Send your feedback to feedback@company.org.\n",
      "Match: feedback@\n",
      "Chat: Reach out to john.doe123@university.edu for academic queries.\n",
      "Match: john.doe123@\n",
      "Chat: No email here, just some random text.\n",
      "Chat: Another example: jane-doe@sub.domain.co.uk.\n",
      "Match: jane-doe@\n"
     ]
    }
   ],
   "source": [
    "# catch - also\n",
    "email_pattern5 = r'[a-zA-Z0-9._\\%\\+\\-]*@'\n",
    "extract_matches(email_texts, email_pattern5)"
   ]
  },
  {
   "cell_type": "code",
   "execution_count": 33,
   "id": "4e279f8b",
   "metadata": {},
   "outputs": [
    {
     "name": "stdout",
     "output_type": "stream",
     "text": [
      "Chat: Contact us at support@example.com for more information.\n",
      "Match: support@example.c\n",
      "Chat: Send your feedback to feedback@company.org.\n",
      "Match: feedback@company.o\n",
      "Chat: Reach out to john.doe123@university.edu for academic queries.\n",
      "Match: john.doe123@university.e\n",
      "Chat: No email here, just some random text.\n",
      "Chat: Another example: jane-doe@sub.domain.co.uk.\n",
      "Match: jane-doe@sub.domain.co.u\n"
     ]
    }
   ],
   "source": [
    "# lets catch the domain\n",
    "email_pattern6 = r'[a-zA-Z0-9._%+-]*@[a-zA-Z0-9.-]*\\.[a-zA-Z]'\n",
    "extract_matches(email_texts, email_pattern6)"
   ]
  }
 ],
 "metadata": {
  "kernelspec": {
   "display_name": "Python 3",
   "language": "python",
   "name": "python3"
  },
  "language_info": {
   "codemirror_mode": {
    "name": "ipython",
    "version": 3
   },
   "file_extension": ".py",
   "mimetype": "text/x-python",
   "name": "python",
   "nbconvert_exporter": "python",
   "pygments_lexer": "ipython3",
   "version": "3.11.13"
  }
 },
 "nbformat": 4,
 "nbformat_minor": 5
}
