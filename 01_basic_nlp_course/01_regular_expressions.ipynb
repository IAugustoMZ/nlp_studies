{
 "cells": [
  {
   "cell_type": "markdown",
   "id": "b7f3b825",
   "metadata": {},
   "source": [
    "# Basic NLP Course\n",
    "\n",
    "## Regular Expression\n",
    "\n",
    "This is the first class of the Basic NLP Course, where we will focus on understanding and applying Regular Expressions (Regex). Regex is a powerful tool for text processing and pattern matching, which forms the foundation for many Natural Language Processing (NLP) tasks.\n",
    "\n",
    "Good reference: [Regex101](https://regex101.com/)\n",
    "\n",
    "### Applications in Chemical and Process Engineering\n",
    "\n",
    "Regular Expressions can be applied in various chemical and process engineering tasks, such as:\n",
    "\n",
    "- **Data Cleaning and Preprocessing**: Extracting and formatting experimental data from unstructured text files or reports.\n",
    "- **Parsing Chemical Formulas**: Identifying and validating chemical formulas or reaction equations from text.\n",
    "- **Log File Analysis**: Analyzing process logs to detect anomalies or patterns in operational data.\n",
    "- **Simulation Input Validation**: Ensuring that input files for simulation software adhere to specific formats.\n",
    "- **Text Mining**: Extracting relevant information from research papers, patents, or technical documents.\n",
    "\n",
    "Regex provides a systematic way to handle these tasks efficiently, saving time and reducing errors."
   ]
  },
  {
   "cell_type": "code",
   "execution_count": 1,
   "id": "2df74da0",
   "metadata": {},
   "outputs": [],
   "source": [
    "import re"
   ]
  },
  {
   "cell_type": "code",
   "execution_count": 2,
   "id": "306ecd56",
   "metadata": {},
   "outputs": [
    {
     "name": "stdout",
     "output_type": "stream",
     "text": [
      "C@ll me @t 1234567890 wh3n you g3t th!s m3ss@ge!!\n",
      "H3y, my n3w numb3r is 9876543210. S@ve !t, plz.\n",
      "Th3 ev3nt st@rts @t 6 PM. C0nt@ct 5556667777 4 d3tails.\n",
      "R@nd0m t3xt w!th a numb3r 1112223333 in b3tw33n.\n",
      "Re@ch 0ut t0 supp0rt @t 4445556666 f0r @ssist@nc3.\n",
      "Call me at 1231231234 when you get this message.\n",
      "Hey, my new number is 3213214321. Save it, please.\n",
      "The quick brown fox jumps over the lazy dog. No numbers here!\n",
      "Contact us at support@example.com for more information.\n",
      "Meeting rescheduled to 3 PM tomorrow. No phone number included.\n"
     ]
    }
   ],
   "source": [
    "# Example of more noisy and unstructured texts with phone numbers\n",
    "noisy_texts = [\n",
    "    \"C@ll me @t 1234567890 wh3n you g3t th!s m3ss@ge!!\",\n",
    "    \"H3y, my n3w numb3r is 9876543210. S@ve !t, plz.\",\n",
    "    \"Th3 ev3nt st@rts @t 6 PM. C0nt@ct 5556667777 4 d3tails.\",\n",
    "    \"R@nd0m t3xt w!th a numb3r 1112223333 in b3tw33n.\",\n",
    "    \"Re@ch 0ut t0 supp0rt @t 4445556666 f0r @ssist@nc3.\",\n",
    "    \"Call me at 1231231234 when you get this message.\",\n",
    "    \"Hey, my new number is 3213214321. Save it, please.\",\n",
    "    \"The quick brown fox jumps over the lazy dog. No numbers here!\",\n",
    "    \"Contact us at support@example.com for more information.\",\n",
    "    \"Meeting rescheduled to 3 PM tomorrow. No phone number included.\"\n",
    "]\n",
    "\n",
    "# Display the noisy texts\n",
    "for text in noisy_texts:\n",
    "    print(text)"
   ]
  },
  {
   "cell_type": "code",
   "execution_count": 3,
   "id": "817c1cef",
   "metadata": {},
   "outputs": [
    {
     "name": "stdout",
     "output_type": "stream",
     "text": [
      "Chat: C@ll me @t 1234567890 wh3n you g3t th!s m3ss@ge!!\n",
      "Phones:  1234567890\n",
      "Chat: H3y, my n3w numb3r is 9876543210. S@ve !t, plz.\n",
      "Phones:  9876543210\n",
      "Chat: Th3 ev3nt st@rts @t 6 PM. C0nt@ct 5556667777 4 d3tails.\n",
      "Phones:  5556667777\n",
      "Chat: R@nd0m t3xt w!th a numb3r 1112223333 in b3tw33n.\n",
      "Phones:  1112223333\n",
      "Chat: Re@ch 0ut t0 supp0rt @t 4445556666 f0r @ssist@nc3.\n",
      "Phones:  4445556666\n",
      "Chat: Call me at 1231231234 when you get this message.\n",
      "Phones:  1231231234\n",
      "Chat: Hey, my new number is 3213214321. Save it, please.\n",
      "Phones:  3213214321\n",
      "Chat: The quick brown fox jumps over the lazy dog. No numbers here!\n",
      "Chat: Contact us at support@example.com for more information.\n",
      "Chat: Meeting rescheduled to 3 PM tomorrow. No phone number included.\n"
     ]
    }
   ],
   "source": [
    "# lets identifiy the phone numbers\n",
    "pattern = '\\d\\d\\d\\d\\d\\d\\d\\d\\d\\d'\n",
    "\n",
    "for text in noisy_texts:\n",
    "    matches = re.findall(pattern, text)\n",
    "\n",
    "    print('Chat:', text)\n",
    "    for match in matches:\n",
    "        print('Phones: ', match)"
   ]
  },
  {
   "cell_type": "code",
   "execution_count": 4,
   "id": "628b0292",
   "metadata": {},
   "outputs": [
    {
     "name": "stdout",
     "output_type": "stream",
     "text": [
      "Chat: C@ll me @t 1234567890 wh3n you g3t th!s m3ss@ge!!\n",
      "Phones:  1234567890\n",
      "Chat: H3y, my n3w numb3r is 9876543210. S@ve !t, plz.\n",
      "Phones:  9876543210\n",
      "Chat: Th3 ev3nt st@rts @t 6 PM. C0nt@ct 5556667777 4 d3tails.\n",
      "Phones:  5556667777\n",
      "Chat: R@nd0m t3xt w!th a numb3r 1112223333 in b3tw33n.\n",
      "Phones:  1112223333\n",
      "Chat: Re@ch 0ut t0 supp0rt @t 4445556666 f0r @ssist@nc3.\n",
      "Phones:  4445556666\n",
      "Chat: Call me at 1231231234 when you get this message.\n",
      "Phones:  1231231234\n",
      "Chat: Hey, my new number is 3213214321. Save it, please.\n",
      "Phones:  3213214321\n",
      "Chat: The quick brown fox jumps over the lazy dog. No numbers here!\n",
      "Chat: Contact us at support@example.com for more information.\n",
      "Chat: Meeting rescheduled to 3 PM tomorrow. No phone number included.\n"
     ]
    }
   ],
   "source": [
    "# try other valid pattern\n",
    "pattern = '\\d{10}'\n",
    "\n",
    "for text in noisy_texts:\n",
    "    matches = re.findall(pattern, text)\n",
    "\n",
    "    print('Chat:', text)\n",
    "    for match in matches:\n",
    "        print('Phones: ', match)"
   ]
  },
  {
   "cell_type": "code",
   "execution_count": 5,
   "id": "17a68be0",
   "metadata": {},
   "outputs": [
    {
     "name": "stdout",
     "output_type": "stream",
     "text": [
      "Chat: Call me at (123)-4567890 when you get this message.\n",
      "Phones:  (123)\n",
      "Chat: Hey, my new number is (987)-6543210. Save it, please.\n",
      "Phones:  (987)\n",
      "Chat: The event starts at 6 PM. Contact (555)-6667777 for details.\n",
      "Phones:  (555)\n",
      "Chat: Random text with a number (111)-2223333 in between.\n",
      "Phones:  (111)\n",
      "Chat: Reach out to support at (444)-5556666 for assistance.\n",
      "Phones:  (444)\n",
      "Chat: No phone number here, just some random text.\n",
      "Chat: Another example: (321)-3214321.\n",
      "Phones:  (321)\n"
     ]
    }
   ],
   "source": [
    "# Pattern for phone numbers in the format (XXX)-XXXXXXX\n",
    "pattern = r'\\(\\d{3}\\)'\n",
    "\n",
    "# Example texts with (XXX)-XXXXXXX format\n",
    "formatted_texts = [\n",
    "    \"Call me at (123)-4567890 when you get this message.\",\n",
    "    \"Hey, my new number is (987)-6543210. Save it, please.\",\n",
    "    \"The event starts at 6 PM. Contact (555)-6667777 for details.\",\n",
    "    \"Random text with a number (111)-2223333 in between.\",\n",
    "    \"Reach out to support at (444)-5556666 for assistance.\",\n",
    "    \"No phone number here, just some random text.\",\n",
    "    \"Another example: (321)-3214321.\"\n",
    "]\n",
    "\n",
    "# Display matches for the (XXX)-XXXXXXX pattern\n",
    "for text in formatted_texts:\n",
    "    matches = re.findall(pattern, text)\n",
    "    print('Chat:', text)\n",
    "    for match in matches:\n",
    "        print('Phones: ', match)"
   ]
  },
  {
   "cell_type": "code",
   "execution_count": 6,
   "id": "54ea444c",
   "metadata": {},
   "outputs": [
    {
     "name": "stdout",
     "output_type": "stream",
     "text": [
      "Chat: Call me at (123)-4567890 when you get this message.\n",
      "Phones:  (123)-4567890\n",
      "Chat: Hey, my new number is (987)-6543210. Save it, please.\n",
      "Phones:  (987)-6543210\n",
      "Chat: The event starts at 6 PM. Contact (555)-6667777 for details.\n",
      "Phones:  (555)-6667777\n",
      "Chat: Random text with a number (111)-2223333 in between.\n",
      "Phones:  (111)-2223333\n",
      "Chat: Reach out to support at (444)-5556666 for assistance.\n",
      "Phones:  (444)-5556666\n",
      "Chat: No phone number here, just some random text.\n",
      "Chat: Another example: (321)-3214321.\n",
      "Phones:  (321)-3214321\n"
     ]
    }
   ],
   "source": [
    "# Pattern for phone numbers in the format (XXX)-XXXXXXX\n",
    "pattern = r'\\(\\d{3}\\)-\\d{7}'\n",
    "\n",
    "# Example texts with (XXX)-XXXXXXX format\n",
    "formatted_texts = [\n",
    "    \"Call me at (123)-4567890 when you get this message.\",\n",
    "    \"Hey, my new number is (987)-6543210. Save it, please.\",\n",
    "    \"The event starts at 6 PM. Contact (555)-6667777 for details.\",\n",
    "    \"Random text with a number (111)-2223333 in between.\",\n",
    "    \"Reach out to support at (444)-5556666 for assistance.\",\n",
    "    \"No phone number here, just some random text.\",\n",
    "    \"Another example: (321)-3214321.\"\n",
    "]\n",
    "\n",
    "# Display matches for the (XXX)-XXXXXXX pattern\n",
    "for text in formatted_texts:\n",
    "    matches = re.findall(pattern, text)\n",
    "    print('Chat:', text)\n",
    "    for match in matches:\n",
    "        print('Phones: ', match)"
   ]
  },
  {
   "cell_type": "code",
   "execution_count": 7,
   "id": "9fcf340a",
   "metadata": {},
   "outputs": [
    {
     "name": "stdout",
     "output_type": "stream",
     "text": [
      "Chat: C@ll me @t 1234567890 wh3n you g3t th!s m3ss@ge!!\n",
      "Phones:  1234567890\n",
      "Chat: H3y, my n3w numb3r is 9876543210. S@ve !t, plz.\n",
      "Phones:  9876543210\n",
      "Chat: Th3 ev3nt st@rts @t 6 PM. C0nt@ct 5556667777 4 d3tails.\n",
      "Phones:  5556667777\n",
      "Chat: R@nd0m t3xt w!th a numb3r 1112223333 in b3tw33n.\n",
      "Phones:  1112223333\n",
      "Chat: Re@ch 0ut t0 supp0rt @t 4445556666 f0r @ssist@nc3.\n",
      "Phones:  4445556666\n",
      "Chat: Call me at 1231231234 when you get this message.\n",
      "Phones:  1231231234\n",
      "Chat: Hey, my new number is 3213214321. Save it, please.\n",
      "Phones:  3213214321\n",
      "Chat: The quick brown fox jumps over the lazy dog. No numbers here!\n",
      "Chat: Contact us at support@example.com for more information.\n",
      "Chat: Meeting rescheduled to 3 PM tomorrow. No phone number included.\n",
      "Chat: Call me at (123)-4567890 when you get this message.\n",
      "Phones:  (123)-4567890\n",
      "Chat: Hey, my new number is (987)-6543210. Save it, please.\n",
      "Phones:  (987)-6543210\n",
      "Chat: The event starts at 6 PM. Contact (555)-6667777 for details.\n",
      "Phones:  (555)-6667777\n",
      "Chat: Random text with a number (111)-2223333 in between.\n",
      "Phones:  (111)-2223333\n",
      "Chat: Reach out to support at (444)-5556666 for assistance.\n",
      "Phones:  (444)-5556666\n",
      "Chat: No phone number here, just some random text.\n",
      "Chat: Another example: (321)-3214321.\n",
      "Phones:  (321)-3214321\n"
     ]
    }
   ],
   "source": [
    "# Combine both lists\n",
    "combined_texts = noisy_texts + formatted_texts\n",
    "\n",
    "# Pattern to match both plain 10-digit numbers and (XXX)-XXXXXXX format\n",
    "pattern1 = r'\\d{10}'\n",
    "pattern2 = r'\\(\\d{3}\\)-\\d{7}'\n",
    "pattern = f\"({pattern1}|{pattern2})\"\n",
    "\n",
    "# | is the OR operator\n",
    "# Display matches for the (XXX)-XXXXXXX pattern\n",
    "for text in combined_texts:\n",
    "    matches = re.findall(pattern, text)\n",
    "    print('Chat:', text)\n",
    "    for match in matches:\n",
    "        print('Phones: ', match)"
   ]
  },
  {
   "cell_type": "code",
   "execution_count": 14,
   "id": "225c155b",
   "metadata": {},
   "outputs": [
    {
     "name": "stdout",
     "output_type": "stream",
     "text": [
      "Chat: Contact us at support@example.com for more information.\n",
      "Match: support@\n",
      "Chat: Send your feedback to feedback@company.org.\n",
      "Match: feedback@\n",
      "Chat: Reach out to john.doe123@university.edu for academic queries.\n",
      "Match: @\n",
      "Chat: No email here, just some random text.\n",
      "Chat: Another example: jane-doe@sub.domain.co.uk.\n",
      "Match: doe@\n"
     ]
    }
   ],
   "source": [
    "# Example texts with email addresses\n",
    "email_texts = [\n",
    "    \"Contact us at support@example.com for more information.\",\n",
    "    \"Send your feedback to feedback@company.org.\",\n",
    "    \"Reach out to john.doe123@university.edu for academic queries.\",\n",
    "    \"No email here, just some random text.\",\n",
    "    \"Another example: jane-doe@sub.domain.co.uk.\"\n",
    "]\n",
    "\n",
    "# pattern\n",
    "email_pattern1 = r'[a-z]*@'\n",
    "\n",
    "def extract_matches(texts, pattern):\n",
    "    \"\"\"\n",
    "    Extracts and prints matches from a list of texts based on the provided regex pattern.\n",
    "\n",
    "    Args:\n",
    "        texts (list): List of texts to search for matches.\n",
    "        pattern (str): Regular expression pattern to match.\n",
    "    \"\"\"\n",
    "    for text in texts:\n",
    "        print('Chat:', text)\n",
    "        matches = re.findall(pattern, text)\n",
    "        for match in matches:\n",
    "            print('Match:', match)\n",
    "\n",
    "# Call the function\n",
    "extract_matches(email_texts, email_pattern1)"
   ]
  },
  {
   "cell_type": "code",
   "execution_count": 15,
   "id": "5effedd0",
   "metadata": {},
   "outputs": [
    {
     "name": "stdout",
     "output_type": "stream",
     "text": [
      "Chat: Contact us at support@example.com for more information.\n",
      "Match: support@\n",
      "Chat: Send your feedback to feedback@company.org.\n",
      "Match: feedback@\n",
      "Chat: Reach out to john.doe123@university.edu for academic queries.\n",
      "Match: @\n",
      "Chat: No email here, just some random text.\n",
      "Chat: Another example: jane-doe@sub.domain.co.uk.\n",
      "Match: doe@\n"
     ]
    }
   ],
   "source": [
    "# let's improve a little bit the pattern\n",
    "email_pattern2 = r'[a-zA-Z]*@'\n",
    "\n",
    "extract_matches(email_texts, email_pattern2)"
   ]
  },
  {
   "cell_type": "code",
   "execution_count": 16,
   "id": "52a20a84",
   "metadata": {},
   "outputs": [
    {
     "name": "stdout",
     "output_type": "stream",
     "text": [
      "Chat: Contact us at support@example.com for more information.\n",
      "Match: support@\n",
      "Chat: Send your feedback to feedback@company.org.\n",
      "Match: feedback@\n",
      "Chat: Reach out to john.doe123@university.edu for academic queries.\n",
      "Match: doe123@\n",
      "Chat: No email here, just some random text.\n",
      "Chat: Another example: jane-doe@sub.domain.co.uk.\n",
      "Match: doe@\n"
     ]
    }
   ],
   "source": [
    "# imprpve a little bit more\n",
    "email_pattern3 = r'[a-zA-Z0-9]*@'\n",
    "\n",
    "extract_matches(email_texts, email_pattern3)"
   ]
  },
  {
   "cell_type": "code",
   "execution_count": 17,
   "id": "ddaad082",
   "metadata": {},
   "outputs": [
    {
     "name": "stdout",
     "output_type": "stream",
     "text": [
      "Chat: Contact us at support@example.com for more information.\n",
      "Match: support@\n",
      "Chat: Send your feedback to feedback@company.org.\n",
      "Match: feedback@\n",
      "Chat: Reach out to john.doe123@university.edu for academic queries.\n",
      "Match: john.doe123@\n",
      "Chat: No email here, just some random text.\n",
      "Chat: Another example: jane-doe@sub.domain.co.uk.\n",
      "Match: doe@\n"
     ]
    }
   ],
   "source": [
    "# get dots and _\n",
    "email_pattern4 = r'[a-zA-Z0-9._]*@'\n",
    "\n",
    "extract_matches(email_texts, email_pattern4)"
   ]
  },
  {
   "cell_type": "code",
   "execution_count": 18,
   "id": "659f50d4",
   "metadata": {},
   "outputs": [
    {
     "name": "stdout",
     "output_type": "stream",
     "text": [
      "Chat: Contact us at support@example.com for more information.\n",
      "Match: support@\n",
      "Chat: Send your feedback to feedback@company.org.\n",
      "Match: feedback@\n",
      "Chat: Reach out to john.doe123@university.edu for academic queries.\n",
      "Match: john.doe123@\n",
      "Chat: No email here, just some random text.\n",
      "Chat: Another example: jane-doe@sub.domain.co.uk.\n",
      "Match: jane-doe@\n"
     ]
    }
   ],
   "source": [
    "# catch - also\n",
    "email_pattern5 = r'[a-zA-Z0-9._\\%\\+\\-]*@'\n",
    "extract_matches(email_texts, email_pattern5)"
   ]
  },
  {
   "cell_type": "code",
   "execution_count": 20,
   "id": "4e279f8b",
   "metadata": {},
   "outputs": [
    {
     "name": "stdout",
     "output_type": "stream",
     "text": [
      "Chat: Contact us at support@example.com for more information.\n",
      "Match: support@example.com\n",
      "Chat: Send your feedback to feedback@company.org.\n",
      "Match: feedback@company.org.\n",
      "Chat: Reach out to john.doe123@university.edu for academic queries.\n",
      "Match: john.doe123@university.edu\n",
      "Chat: No email here, just some random text.\n",
      "Chat: Another example: jane-doe@sub.domain.co.uk.\n",
      "Match: jane-doe@sub.domain.co.uk.\n"
     ]
    }
   ],
   "source": [
    "# lets catch the domain\n",
    "email_pattern6 = r'[a-zA-Z0-9._%+-]*@[a-zA-Z0-9.-]*\\.[a-zA-Z]*'\n",
    "extract_matches(email_texts, email_pattern6)"
   ]
  },
  {
   "cell_type": "code",
   "execution_count": 23,
   "id": "8f8fa4f5",
   "metadata": {},
   "outputs": [
    {
     "name": "stdout",
     "output_type": "stream",
     "text": [
      "Chat: Contact us at support@example.com for more information.\n",
      "Match: support@example.com\n",
      "Chat: Send your feedback to feedback@company.org.\n",
      "Match: feedback@company.org.\n",
      "Chat: Reach out to john.doe123@university.edu for academic queries.\n",
      "Match: john.doe123@university.edu\n",
      "Chat: No email here, just some random text.\n",
      "Chat: Another example: jane-doe@sub.domain.co.uk.\n",
      "Match: jane-doe@sub.domain.co.uk.\n"
     ]
    }
   ],
   "source": [
    "# improving the domain pattern - because domains can be more complex\n",
    "email_pattern7 = r'[a-zA-Z0-9._%+-]*@[a-zA-Z0-9.-]*\\.[a-zA-Z]*'\n",
    "extract_matches(email_texts, email_pattern7)"
   ]
  },
  {
   "cell_type": "markdown",
   "id": "68cadbc5",
   "metadata": {},
   "source": [
    "# Practical Exercises: Regex in Chemical and Process Engineering\n",
    "\n",
    "Below are some practical exercises to help you understand how Regular Expressions (Regex) can be applied to solve real-world problems in chemical and process engineering.\n",
    "\n",
    "---\n",
    "\n",
    "## Exercise 1: Extracting Chemical Formulas\n",
    "Given a list of unstructured text containing chemical formulas, extract all valid chemical formulas (e.g., `H2O`, `C6H12O6`, `NaCl`).\n",
    "\n",
    "**Example Input:**\n",
    "```\n",
    "texts = [\n",
    "    \"The reaction produces H2O and CO2.\",\n",
    "    \"Glucose (C6H12O6) is a simple sugar.\",\n",
    "    \"NaCl is common table salt.\",\n",
    "    \"Random text without formulas.\",\n",
    "    \"Another example: CH3COOH (acetic acid).\"\n",
    "]\n",
    "```\n",
    "\n",
    "**Expected Output:**\n",
    "```\n",
    "['H2O', 'CO2', 'C6H12O6', 'NaCl', 'CH3COOH']\n",
    "```\n",
    "\n",
    "---\n",
    "\n",
    "## Exercise 2: Validating Reaction Equations\n",
    "Write a regex to validate simple chemical reaction equations. For example, `H2 + O2 -> H2O` or `C + O2 -> CO2`.\n",
    "\n",
    "**Example Input:**\n",
    "```\n",
    "equations = [\n",
    "    \"H2 + O2 -> H2O\",\n",
    "    \"C + O2 -> CO2\",\n",
    "    \"Invalid equation ->\",\n",
    "    \"NaCl + H2O -> NaOH + HCl\"\n",
    "]\n",
    "```\n",
    "\n",
    "**Expected Output:**\n",
    "```\n",
    "['H2 + O2 -> H2O', 'C + O2 -> CO2', 'NaCl + H2O -> NaOH + HCl']\n",
    "```\n",
    "\n",
    "---\n",
    "\n",
    "## Exercise 3: Extracting Units from Experimental Data\n",
    "Extract all units (e.g., `kg`, `m^3`, `Pa`, `mol`) from a list of experimental data.\n",
    "\n",
    "**Example Input:**\n",
    "```\n",
    "data = [\n",
    "    \"The pressure is 101325 Pa.\",\n",
    "    \"Flow rate: 1.5 m^3/s.\",\n",
    "    \"Mass: 25 kg.\",\n",
    "    \"Concentration: 0.1 mol/L.\"\n",
    "]\n",
    "```\n",
    "\n",
    "**Expected Output:**\n",
    "```\n",
    "['Pa', 'm^3', 'kg', 'mol/L']\n",
    "```\n",
    "\n",
    "---\n",
    "\n",
    "## Exercise 4: Parsing Log Files for Anomalies\n",
    "Identify timestamps and error codes in process log files.\n",
    "\n",
    "**Example Input:**\n",
    "```\n",
    "logs = [\n",
    "    \"[2023-10-01 12:00:00] ERROR: Code 1234 - Reactor temperature too high.\",\n",
    "    \"[2023-10-01 12:05:00] INFO: System stable.\",\n",
    "    \"[2023-10-01 12:10:00] ERROR: Code 5678 - Pressure drop detected.\"\n",
    "]\n",
    "```\n",
    "\n",
    "**Expected Output:**\n",
    "```\n",
    "Timestamps: ['2023-10-01 12:00:00', '2023-10-01 12:10:00']\n",
    "Error Codes: ['1234', '5678']\n",
    "```\n",
    "\n",
    "---\n",
    "\n",
    "## Exercise 5: Extracting Simulation Parameters\n",
    "Extract key-value pairs of simulation parameters from input files.\n",
    "\n",
    "**Example Input:**\n",
    "```\n",
    "parameters = \"\"\"\n",
    "Temperature: 300 K\n",
    "Pressure: 101325 Pa\n",
    "FlowRate: 1.5 m^3/s\n",
    "Concentration: 0.1 mol/L\n",
    "\"\"\"\n",
    "```\n",
    "\n",
    "**Expected Output:**\n",
    "```\n",
    "{'Temperature': '300 K', 'Pressure': '101325 Pa', 'FlowRate': '1.5 m^3/s', 'Concentration': '0.1 mol/L'}\n",
    "```\n",
    "\n",
    "---\n",
    "\n",
    "## Exercise 6: Identifying CAS Numbers\n",
    "Extract valid CAS (Chemical Abstracts Service) numbers from a list of text. A CAS number is in the format `XXXXX-XX-X`.\n",
    "\n",
    "**Example Input:**\n",
    "```\n",
    "texts = [\n",
    "    \"The CAS number for water is 7732-18-5.\",\n",
    "    \"Methane has a CAS number of 74-82-8.\",\n",
    "    \"Invalid CAS: 123-456.\",\n",
    "    \"Another valid CAS: 50-00-0.\"\n",
    "]\n",
    "```\n",
    "\n",
    "**Expected Output:**\n",
    "```\n",
    "['7732-18-5', '74-82-8', '50-00-0']\n",
    "```\n",
    "\n",
    "---\n",
    "\n",
    "## Exercise 7: Extracting Numerical Data\n",
    "Extract all numerical values (including decimals and scientific notation) from experimental results.\n",
    "\n",
    "**Example Input:**\n",
    "```\n",
    "results = [\n",
    "    \"The reaction rate is 1.23e-4 mol/s.\",\n",
    "    \"Temperature: 300 K.\",\n",
    "    \"Pressure: 1.01325e5 Pa.\",\n",
    "    \"Flow rate: 1.5 m^3/s.\"\n",
    "]\n",
    "```\n",
    "\n",
    "**Expected Output:**\n",
    "```\n",
    "['1.23e-4', '300', '1.01325e5', '1.5']\n",
    "```"
   ]
  },
  {
   "cell_type": "code",
   "execution_count": 94,
   "id": "c58eaa9d",
   "metadata": {},
   "outputs": [
    {
     "name": "stdout",
     "output_type": "stream",
     "text": [
      "The reaction produces H2O and CO2.\n",
      "Matches: ['H2O', 'CO2']\n",
      "Glucose (C6H12O6) is a simple sugar.\n",
      "Matches: ['C6H12O6']\n",
      "NaCl is common table salt.\n",
      "Matches: ['NaCl']\n",
      "Random text without formulas.\n",
      "Matches: []\n",
      "Another example: CH3COOH (acetic acid).\n",
      "Matches: ['CH3COOH']\n"
     ]
    }
   ],
   "source": [
    "# exercise 1 - extracting chemical formulas\n",
    "texts = [\n",
    "    \"The reaction produces H2O and CO2.\",\n",
    "    \"Glucose (C6H12O6) is a simple sugar.\",\n",
    "    \"NaCl is common table salt.\",\n",
    "    \"Random text without formulas.\",\n",
    "    \"Another example: CH3COOH (acetic acid).\"\n",
    "]\n",
    "\n",
    "pattern = r'([A-Z]*\\d+[A-Z]*)+|[A-Z][a-z][A-Z][a-z]'\n",
    "for text in texts:\n",
    "    print(text)\n",
    "    print('Matches:', [match.group() for match in re.finditer(pattern, text)])"
   ]
  },
  {
   "cell_type": "markdown",
   "id": "6432d282",
   "metadata": {},
   "source": [
    "Pattern Breakdown\n",
    "\n",
    "1. `([A-Z]*\\d+[A-Z]*)+`:\n",
    "    - Matches one or more sequences of:\n",
    "      - Zero or more uppercase letters (`[A-Z]*`),\n",
    "      - Followed by one or more digits (`\\d+`),\n",
    "      - Optionally followed by zero or more uppercase letters (`[A-Z]*`).\n",
    "    - This part is useful for matching chemical formulas like `H2O`, `C6H12O6`, or `CH3COOH`.\n",
    "\n",
    "2. `[A-Z][a-z][A-Z][a-z]`:\n",
    "    - Matches a sequence of:\n",
    "      - An uppercase letter (`[A-Z]`),\n",
    "      - Followed by a lowercase letter (`[a-z]`),\n",
    "      - Followed by another uppercase letter (`[A-Z]`),\n",
    "      - Followed by another lowercase letter (`[a-z]`).\n",
    "    - This part is less common in chemical formulas but could match specific patterns like `NaCl` if written unconventionally."
   ]
  },
  {
   "cell_type": "code",
   "execution_count": 128,
   "id": "1ade0cde",
   "metadata": {},
   "outputs": [
    {
     "name": "stdout",
     "output_type": "stream",
     "text": [
      "Matchs:  ['H2 + O2 -> H2O']\n",
      "Matchs:  ['C + O2 -> CO2']\n",
      "Matchs:  []\n",
      "Matchs:  ['NaCl + H2O -> NaOH + HCl']\n"
     ]
    }
   ],
   "source": [
    "# exercise 2 - validating reaction equations\n",
    "equations = [\n",
    "    \"H2 + O2 -> H2O\",\n",
    "    \"C + O2 -> CO2\",\n",
    "    \"Invalid equation ->\",\n",
    "    \"NaCl + H2O -> NaOH + HCl\"\n",
    "]\n",
    "\n",
    "pattern1 = r'([A-Z]+\\d*[A-Z]*)\\s\\+\\s([A-Z]+\\d*[A-Z]*)\\s\\-\\>\\s([A-Z]+\\d*[A-Z]*)'\n",
    "pattern2 = r'([A-Z]\\d*[a-z]?)+\\s\\+\\s([A-Z]\\d*[a-z]?)+\\s\\-\\>\\s([A-Z]\\d*[a-z]?)+\\s\\+\\s([A-Z]\\d*[a-z]?)+'\n",
    "pattern = pattern1 + \"|\" + pattern2\n",
    "\n",
    "for eq in equations:\n",
    "    print('Matchs: ', [match.group() for match in re.finditer(pattern, eq)])"
   ]
  },
  {
   "cell_type": "markdown",
   "id": "1f53774f",
   "metadata": {},
   "source": [
    "### Explanation of the Pattern\n",
    "\n",
    "The regex pattern used in the previous cell is designed to validate and extract chemical reaction equations. It consists of two main parts combined with the `|` (OR) operator:\n",
    "\n",
    "1. **Pattern 1**: `([A-Z]+\\d*[A-Z]*)\\s\\+\\s([A-Z]+\\d*[A-Z]*)\\s\\-\\>\\s([A-Z]+\\d*[A-Z]*)`\n",
    "    - Matches simple chemical reactions with one reactant and one product.\n",
    "    - `([A-Z]+\\d*[A-Z]*)`: Matches a chemical formula, which starts with one or more uppercase letters (`[A-Z]+`), optionally followed by digits (`\\d*`), and optionally followed by more uppercase letters (`[A-Z]*`).\n",
    "    - `\\s\\+\\s`: Matches the `+` operator surrounded by spaces.\n",
    "    - `\\s\\-\\>\\s`: Matches the `->` operator surrounded by spaces.\n",
    "\n",
    "2. **Pattern 2**: `([A-Z]\\d*[a-z]?)+\\s\\+\\s([A-Z]\\d*[a-z]?)+\\s\\-\\>\\s([A-Z]\\d*[a-z]?)+\\s\\+\\s([A-Z]\\d*[a-z]?)+`\n",
    "    - Matches more complex reactions with multiple reactants and products.\n",
    "    - `([A-Z]\\d*[a-z]?)`: Matches a chemical formula with an uppercase letter (`[A-Z]`), optionally followed by digits (`\\d*`), and optionally followed by a lowercase letter (`[a-z]?`).\n",
    "    - `\\s\\+\\s`: Matches the `+` operator surrounded by spaces.\n",
    "    - `\\s\\-\\>\\s`: Matches the `->` operator surrounded by spaces.\n",
    "\n",
    "This combined pattern ensures that both simple and complex reaction equations are captured, making it versatile for various chemical reaction formats."
   ]
  },
  {
   "cell_type": "code",
   "execution_count": 152,
   "id": "2649bb8e",
   "metadata": {},
   "outputs": [
    {
     "name": "stdout",
     "output_type": "stream",
     "text": [
      "Matchs:  ['Pa']\n",
      "Matchs:  ['m^3/s']\n",
      "Matchs:  ['kg']\n",
      "Matchs:  ['mol/L']\n",
      "Matchs:  ['cal/mol.C']\n"
     ]
    }
   ],
   "source": [
    "# exercise 3 - extracting units\n",
    "data = [\n",
    "    \"The pressure is 101325 Pa.\",\n",
    "    \"Flow rate: 1.5 m^3/s.\",\n",
    "    \"Mass: 25 kg.\",\n",
    "    \"Concentration: 0.1 mol/L.\",\n",
    "    'Heat Capacity: 1 cal/mol.C'\n",
    "]\n",
    "\n",
    "pattern1 = r'(\\d\\s?[A-z][a-z]?\\^?\\d?[a-z]*\\/?[A-Za-z]*\\.?[A-Z]*)+'\n",
    "pattern2 = r''\n",
    "pattern = pattern1 # + \"|\" + pattern2\n",
    "\n",
    "for text in data:\n",
    "    matches = [match.group() for match in re.finditer(pattern, text)]\n",
    "    cleaned = [m.split()[1] for m in matches]\n",
    "    print('Matchs: ', [c[:-1] if c[-1] == '.' else c for c in cleaned])"
   ]
  },
  {
   "cell_type": "markdown",
   "id": "0fc330ff",
   "metadata": {},
   "source": [
    "### Explanation of the Pattern\n",
    "\n",
    "The regex pattern `(\\d\\s?[A-z][a-z]?\\^?\\d?[a-z]*\\/?[A-Za-z]*\\.?[A-Z]*)+` is designed to extract units from text. Here's a breakdown:\n",
    "\n",
    "1. `\\d\\s?`: Matches a digit (`\\d`) optionally followed by a space (`\\s?`), ensuring the unit is associated with a numerical value.\n",
    "2. `[A-z]`: Matches any letter (uppercase or lowercase) from `A` to `z`.\n",
    "3. `[a-z]?`: Optionally matches a lowercase letter, allowing for units like `kg` or `Pa`.\n",
    "4. `\\^?\\d?`: Optionally matches a caret (`^`) followed by a digit, capturing units with exponents like `m^3`.\n",
    "5. `[a-z]*`: Matches zero or more lowercase letters, accommodating extended unit names like `mol`.\n",
    "6. `\\/?`: Optionally matches a forward slash (`/`), supporting compound units like `m^3/s`.\n",
    "7. `[A-Za-z]*`: Matches zero or more letters, allowing for additional characters in complex units.\n",
    "8. `\\.?[A-Z]*`: Optionally matches a period (`.`) followed by uppercase letters, capturing units with suffixes like `mol.C`."
   ]
  },
  {
   "cell_type": "code",
   "execution_count": 163,
   "id": "69590998",
   "metadata": {},
   "outputs": [
    {
     "name": "stdout",
     "output_type": "stream",
     "text": [
      "Log:  [2023-10-01 12:00:00] ERROR: Code 1234 - Reactor temperature too high.\n",
      "Timestamps:  ['2023-10-01 12:00:00']\n",
      "Error Codes:  ['1234']\n",
      "Log:  [2023-10-01 12:05:00] INFO: System stable.\n",
      "Timestamps:  ['2023-10-01 12:05:00']\n",
      "Error Codes:  []\n",
      "Log:  [2023-10-01 12:10:00] ERROR: Code 5678 - Pressure drop detected.\n",
      "Timestamps:  ['2023-10-01 12:10:00']\n",
      "Error Codes:  ['5678']\n"
     ]
    }
   ],
   "source": [
    "# exercise 4 - parsing logs\n",
    "logs = [\n",
    "    \"[2023-10-01 12:00:00] ERROR: Code 1234 - Reactor temperature too high.\",\n",
    "    \"[2023-10-01 12:05:00] INFO: System stable.\",\n",
    "    \"[2023-10-01 12:10:00] ERROR: Code 5678 - Pressure drop detected.\"\n",
    "]\n",
    "\n",
    "tms_pattern = r'\\d{4}\\-\\d{2}\\-\\d{2}\\s\\d{2}\\:\\d{2}\\:\\d{2}'\n",
    "error_pattern = r'ERROR\\:\\sCode\\s\\d{4}'\n",
    "\n",
    "for log in logs:\n",
    "    timestamp = re.findall(tms_pattern, log)\n",
    "    error_code = re.findall(error_pattern, log)\n",
    "\n",
    "    print('Log: ', log)\n",
    "    print('Timestamps: ', timestamp)\n",
    "    print('Error Codes: ', [e.split()[2] for e in error_code])"
   ]
  },
  {
   "cell_type": "markdown",
   "id": "80777967",
   "metadata": {},
   "source": [
    "### Breakdown of Patterns\n",
    "\n",
    "#### 1. `tms_pattern = '\\\\d{4}\\\\-\\\\d{2}\\\\-\\\\d{2}\\\\s\\\\d{2}\\\\:\\\\d{2}\\\\:\\\\d{2}'`\n",
    "- Matches timestamps in the format `YYYY-MM-DD HH:MM:SS`:\n",
    "    - `\\\\d{4}`: Matches a 4-digit year.\n",
    "    - `\\\\-`: Matches the hyphen (`-`) separating year, month, and day.\n",
    "    - `\\\\d{2}`: Matches a 2-digit month and day.\n",
    "    - `\\\\s`: Matches a space separating the date and time.\n",
    "    - `\\\\d{2}\\\\:\\\\d{2}\\\\:\\\\d{2}`: Matches the time in `HH:MM:SS` format, where `\\\\:` matches the colon (`:`).\n",
    "\n",
    "#### 2. `error_pattern = 'ERROR\\\\:\\\\sCode\\\\s\\\\d{4}'`\n",
    "- Matches error codes in the format `ERROR: Code XXXX`:\n",
    "    - `ERROR\\\\:`: Matches the word `ERROR` followed by a colon (`:`).\n",
    "    - `\\\\s`: Matches a space.\n",
    "    - `Code`: Matches the word `Code`.\n",
    "    - `\\\\s`: Matches another space.\n",
    "    - `\\\\d{4}`: Matches a 4-digit error code.\n"
   ]
  },
  {
   "cell_type": "code",
   "execution_count": 183,
   "id": "08bad5f9",
   "metadata": {},
   "outputs": [
    {
     "name": "stdout",
     "output_type": "stream",
     "text": [
      "{'Temperature:': {'value': 300.0, 'unit': 'K'}, 'Pressure:': {'value': 101325.0, 'unit': 'Pa'}, 'FlowRate:': {'value': 1.5, 'unit': 'm^3/s'}, 'Concentration:': {'value': 0.1, 'unit': 'mol/L'}}\n"
     ]
    }
   ],
   "source": [
    "# execise 5 - extracting simulation parameters\n",
    "parameters = \"\"\"\n",
    "Temperature: 300 K\n",
    "Pressure: 101325 Pa\n",
    "FlowRate: 1.5 m^3/s\n",
    "Concentration: 0.1 mol/L\n",
    "\"\"\"\n",
    "\n",
    "pattern = r'[A-Za-z]*\\:\\s\\d*\\.?\\d*\\s[A-Za-z]\\^?\\d*[a-z]*/?[A-Za-z]*'\n",
    "\n",
    "parameters_list = re.findall(pattern, parameters)\n",
    "sim_params = {}\n",
    "for item in parameters_list:\n",
    "    key, value, unit = item.split()\n",
    "    sim_params[key] = {\n",
    "        'value': float(value),\n",
    "        'unit': unit\n",
    "    }\n",
    "\n",
    "print(sim_params)"
   ]
  },
  {
   "cell_type": "markdown",
   "id": "1f0839e8",
   "metadata": {},
   "source": [
    "### Breakdown of Patterns\n",
    "\n",
    "The regex pattern `[A-Za-z]*\\:\\s\\d*\\.?\\d*\\s[A-Za-z]\\^?\\d*[a-z]*/?[A-Za-z]*` is designed to extract simulation parameters in the format `Key: Value Unit`. Here's a detailed breakdown:\n",
    "\n",
    "1. `[A-Za-z]*`: Matches the parameter name (key), which consists of zero or more letters (uppercase or lowercase).\n",
    "2. `\\:`: Matches the colon (`:`) that separates the key from the value.\n",
    "3. `\\s`: Matches a space after the colon.\n",
    "4. `\\d*`: Matches zero or more digits, representing the numerical value.\n",
    "5. `\\.?`: Optionally matches a decimal point (`.`) for floating-point numbers.\n",
    "6. `\\d*`: Matches zero or more digits after the decimal point.\n",
    "7. `\\s`: Matches a space between the value and the unit.\n",
    "8. `[A-Za-z]`: Matches the first character of the unit, which must be a letter (uppercase or lowercase).\n",
    "9. `\\^?`: Optionally matches a caret (`^`), used for exponents in units like `m^3`.\n",
    "10. `\\d*`: Matches zero or more digits after the caret, representing the exponent.\n",
    "11. `[a-z]*`: Matches zero or more lowercase letters, allowing for extended unit names like `mol`.\n",
    "12. `\\/?`: Optionally matches a forward slash (`/`), supporting compound units like `m^3/s`.\n",
    "13. `[A-Za-z]*`: Matches zero or more letters, allowing for additional characters in complex units."
   ]
  },
  {
   "cell_type": "code",
   "execution_count": 184,
   "id": "f3c72bc1",
   "metadata": {},
   "outputs": [
    {
     "name": "stdout",
     "output_type": "stream",
     "text": [
      "Text:  The CAS number for water is 7732-18-5.\n",
      "CAS number:  ['7732-18-5']\n",
      "Text:  Methane has a CAS number of 74-82-8.\n",
      "CAS number:  ['74-82-8']\n",
      "Text:  Invalid CAS: 123-456.\n",
      "CAS number:  []\n",
      "Text:  Another valid CAS: 50-00-0.\n",
      "CAS number:  ['50-00-0']\n"
     ]
    }
   ],
   "source": [
    "# exercise 6 - extracting valid CAS number\n",
    "texts = [\n",
    "    \"The CAS number for water is 7732-18-5.\",\n",
    "    \"Methane has a CAS number of 74-82-8.\",\n",
    "    \"Invalid CAS: 123-456.\",\n",
    "    \"Another valid CAS: 50-00-0.\"\n",
    "]\n",
    "\n",
    "pattern = r'\\d*\\-\\d*\\-\\d'\n",
    "\n",
    "for text in texts:\n",
    "    print('Text: ', text)\n",
    "    print('CAS number: ', re.findall(pattern, text))"
   ]
  },
  {
   "cell_type": "markdown",
   "id": "204532d5",
   "metadata": {},
   "source": [
    "### Breakdown of Patterns\n",
    "\n",
    "#### Pattern: `\\\\d*\\\\-\\\\d*\\\\-\\\\d`\n",
    "This pattern is designed to match CAS (Chemical Abstracts Service) numbers, which follow the format `XXXXX-XX-X`. Here's the breakdown:\n",
    "\n",
    "1. `\\\\d*`: Matches zero or more digits. This captures the first part of the CAS number, which can have varying lengths.\n",
    "2. `\\\\-`: Matches the hyphen (`-`) that separates the sections of the CAS number.\n",
    "3. `\\\\d*`: Matches zero or more digits. This captures the second part of the CAS number, which typically has two digits.\n",
    "4. `\\\\-`: Matches the second hyphen (`-`) in the CAS number.\n",
    "5. `\\\\d`: Matches exactly one digit. This captures the final part of the CAS number, which always has a single digit.\n",
    "\n",
    "This pattern ensures that valid CAS numbers like `7732-18-5` or `50-00-0` are matched while excluding invalid formats."
   ]
  },
  {
   "cell_type": "code",
   "execution_count": 193,
   "id": "fa8c5d97",
   "metadata": {},
   "outputs": [
    {
     "name": "stdout",
     "output_type": "stream",
     "text": [
      "Text:  The reaction rate is 1.23e-4 mol/s.\n",
      "Numerical Data:  ['1.23e-4']\n",
      "Text:  Temperature: 300 K.\n",
      "Numerical Data:  ['300']\n",
      "Text:  Pressure: 1.01325e5 Pa.\n",
      "Numerical Data:  ['1.01325e5']\n",
      "Text:  Flow rate: 1.5 m^3/s.\n",
      "Numerical Data:  ['1.5']\n"
     ]
    }
   ],
   "source": [
    "# exercise 7 - extracting numerical data\n",
    "results = [\n",
    "    \"The reaction rate is 1.23e-4 mol/s.\",\n",
    "    \"Temperature: 300 K.\",\n",
    "    \"Pressure: 1.01325e5 Pa.\",\n",
    "    \"Flow rate: 1.5 m^3/s.\"\n",
    "]\n",
    "\n",
    "pattern = r'\\s\\d+\\.?\\d*e?\\-?\\d*'\n",
    "\n",
    "for result in results:\n",
    "    print('Text: ', result)\n",
    "    print('Numerical Data: ', [s.strip() for s in re.findall(pattern, result)])"
   ]
  },
  {
   "cell_type": "markdown",
   "id": "9b463b5b",
   "metadata": {},
   "source": [
    "### Breakdown of Patterns\n",
    "\n",
    "#### Pattern: `\\\\s\\\\d+\\\\.?\\\\d*e?\\\\-?\\\\d*`\n",
    "This pattern is designed to extract numerical data, including integers, decimals, and scientific notation. Here's the breakdown:\n",
    "\n",
    "1. `\\\\s`: Matches a space before the number, ensuring the number is not part of a word.\n",
    "2. `\\\\d+`: Matches one or more digits, representing the integer or the whole number part of a decimal.\n",
    "3. `\\\\.?`: Optionally matches a decimal point (`.`), allowing for both integers and decimals.\n",
    "4. `\\\\d*`: Matches zero or more digits after the decimal point, capturing the fractional part of a decimal number.\n",
    "5. `e?`: Optionally matches the character `e`, which is used in scientific notation.\n",
    "6. `\\\\-?`: Optionally matches a minus sign (`-`), which may appear in the exponent of scientific notation.\n",
    "7. `\\\\d*`: Matches zero or more digits, representing the exponent in scientific notation.\n",
    "\n",
    "## Class Summary\n",
    "\n",
    "This class focused on the practical application of Regular Expressions (Regex) in various contexts, including text processing, chemical and process engineering, and data extraction. Key highlights include:\n",
    "\n",
    "- **Regex Basics**: Introduction to regex patterns and their components, such as character classes, quantifiers, and special characters.\n",
    "- **Text Cleaning**: Extracting phone numbers, email addresses, and CAS numbers from noisy or formatted text.\n",
    "- **Chemical Applications**:\n",
    "    - Extracting chemical formulas from unstructured text.\n",
    "    - Validating chemical reaction equations.\n",
    "- **Data Extraction**:\n",
    "    - Parsing experimental data to extract units and numerical values.\n",
    "    - Extracting simulation parameters as key-value pairs.\n",
    "- **Log Analysis**: Identifying timestamps and error codes in process logs.\n",
    "- **Pattern Refinement**: Iterative improvement of regex patterns to handle complex cases, such as scientific notation, compound units, and domain-specific formats.\n",
    "\n",
    "The class emphasized the versatility of regex in automating repetitive tasks, improving data quality, and enabling efficient information retrieval."
   ]
  },
  {
   "cell_type": "markdown",
   "id": "ca5b4ce4",
   "metadata": {},
   "source": []
  }
 ],
 "metadata": {
  "kernelspec": {
   "display_name": "Python 3",
   "language": "python",
   "name": "python3"
  },
  "language_info": {
   "codemirror_mode": {
    "name": "ipython",
    "version": 3
   },
   "file_extension": ".py",
   "mimetype": "text/x-python",
   "name": "python",
   "nbconvert_exporter": "python",
   "pygments_lexer": "ipython3",
   "version": "3.11.13"
  }
 },
 "nbformat": 4,
 "nbformat_minor": 5
}
